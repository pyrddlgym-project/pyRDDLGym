{
 "cells": [
  {
   "cell_type": "markdown",
   "id": "8b4a9c3c-7e3a-4ea6-b3fb-536f9486cac2",
   "metadata": {},
   "source": [
    "# Grounding a problem in pyRDDLGym."
   ]
  },
  {
   "cell_type": "markdown",
   "id": "3df9ac7c-5c7d-407c-b992-114cc89595af",
   "metadata": {},
   "source": [
    "This rudimentary example shows how to ground a domain and instance from lifted form."
   ]
  },
  {
   "cell_type": "markdown",
   "id": "8802725f-f435-4d0b-a7e1-11166e73210f",
   "metadata": {},
   "source": [
    "First install and import the required packages:"
   ]
  },
  {
   "cell_type": "code",
   "execution_count": 1,
   "id": "c7e733be-1d27-44d5-b37f-eec7d239efe2",
   "metadata": {},
   "outputs": [
    {
     "name": "stdout",
     "output_type": "stream",
     "text": [
      "Note: you may need to restart the kernel to use updated packages.\n",
      "Note: you may need to restart the kernel to use updated packages.\n"
     ]
    }
   ],
   "source": [
    "%pip install --quiet --upgrade pip\n",
    "%pip install --quiet pyRDDLGym rddlrepository"
   ]
  },
  {
   "cell_type": "markdown",
   "id": "c421f494-7b91-4c12-aed9-810d32642cc5",
   "metadata": {},
   "source": [
    "Import the required packages:"
   ]
  },
  {
   "cell_type": "code",
   "execution_count": 2,
   "id": "29bce46a-bd17-41f4-9cf7-5126f581b381",
   "metadata": {},
   "outputs": [],
   "source": [
    "import pyRDDLGym\n",
    "from pyRDDLGym.core.debug.decompiler import RDDLDecompiler\n",
    "from pyRDDLGym.core.grounder import RDDLGrounder"
   ]
  },
  {
   "cell_type": "markdown",
   "id": "5fd2837e-a5c3-4c11-b680-c78949827190",
   "metadata": {},
   "source": [
    "We will use the Wildfire domain, instance 1, to illustrate how grounding works:"
   ]
  },
  {
   "cell_type": "code",
   "execution_count": 3,
   "id": "f77ba890-9bd3-435c-81bd-9c1962ccb2ed",
   "metadata": {},
   "outputs": [],
   "source": [
    "env = pyRDDLGym.make('Wildfire_MDP_ippc2014', '1')"
   ]
  },
  {
   "cell_type": "markdown",
   "id": "d08f34e7-3925-4bab-9bf4-9fcedd72097c",
   "metadata": {},
   "source": [
    "Let's take a look at the state-fluents and the conditional probability functions for them:"
   ]
  },
  {
   "cell_type": "code",
   "execution_count": 4,
   "id": "c52cc79b-f872-425d-91bc-6f9948716d25",
   "metadata": {},
   "outputs": [
    {
     "name": "stdout",
     "output_type": "stream",
     "text": [
      "state-fluent burning' has the following cpf:\n",
      "if (put-out(?x, ?y))\n",
      "\tthen false\n",
      "\telse ( if (( ~out-of-fuel(?x, ?y) ) ^ ( ~burning(?x, ?y) ))\n",
      "\t\tthen ( if (TARGET(?x, ?y) ^ ( ~( exists_{?x2: x_pos, ?y2: y_pos} [ NEIGHBOR(?x, ?y, ?x2, ?y2) ^ burning(?x2, ?y2) ] ) ))\n",
      "\t\t\tthen false\n",
      "\t\t\telse Bernoulli(1.0 / ( 1.0 + exp[4.5 - ( sum_{?x2: x_pos, ?y2: y_pos} [ NEIGHBOR(?x, ?y, ?x2, ?y2) ^ burning(?x2, ?y2) ] )] )) )\n",
      "\t\telse burning(?x, ?y) )\n",
      "\n",
      "state-fluent out-of-fuel' has the following cpf:\n",
      "( out-of-fuel(?x, ?y) | burning(?x, ?y) ) | ( ( ~TARGET(?x, ?y) ) ^ cut-out(?x, ?y) )\n",
      "\n"
     ]
    }
   ],
   "source": [
    "for fluent, expr in RDDLDecompiler().decompile_exprs(env.model)['cpfs'].items():\n",
    "    print(f'state-fluent {fluent} has the following cpf:\\n{expr}\\n')"
   ]
  },
  {
   "cell_type": "markdown",
   "id": "1abf0ed9-d6d1-4cf7-9ef7-3cd51bb37824",
   "metadata": {},
   "source": [
    "There are two state fluent variables with parameterized expressions. The purpose of grounding is separate out this expression into a set of expressions, one per parameter evaluation, that is parameter-free. To do this, we will instantiate and call the grounder on the domain as follows:"
   ]
  },
  {
   "cell_type": "code",
   "execution_count": 5,
   "id": "674388dc-71f7-4c59-98e6-f8f509e96b28",
   "metadata": {},
   "outputs": [],
   "source": [
    "grounded_model = RDDLGrounder(env.model.ast).ground()"
   ]
  },
  {
   "cell_type": "markdown",
   "id": "b3f95c6d-3a0a-4944-9365-068ab62ce5e8",
   "metadata": {},
   "source": [
    "Let's decompile the new conditional probability functions and check that they are free of parameters:"
   ]
  },
  {
   "cell_type": "code",
   "execution_count": 6,
   "id": "74629f4c-e594-4716-a88e-84495eec8c32",
   "metadata": {},
   "outputs": [
    {
     "name": "stdout",
     "output_type": "stream",
     "text": [
      "state-fluent burning___x1__y1' has the following cpf:\n",
      "if (put-out___x1__y1)\n",
      "\tthen false\n",
      "\telse ( if (( ~out-of-fuel___x1__y1 ) ^ ( ~burning___x1__y1 ))\n",
      "\t\tthen ( if (TARGET___x1__y1 ^ ( ~( ( NEIGHBOR___x1__y1__x1__y1 ^ burning___x1__y1 ) | ( NEIGHBOR___x1__y1__x1__y2 ^ burning___x1__y2 ) | ( NEIGHBOR___x1__y1__x1__y3 ^ burning___x1__y3 ) | ( NEIGHBOR___x1__y1__x2__y1 ^ burning___x2__y1 ) | ( NEIGHBOR___x1__y1__x2__y2 ^ burning___x2__y2 ) | ( NEIGHBOR___x1__y1__x2__y3 ^ burning___x2__y3 ) | ( NEIGHBOR___x1__y1__x3__y1 ^ burning___x3__y1 ) | ( NEIGHBOR___x1__y1__x3__y2 ^ burning___x3__y2 ) | ( NEIGHBOR___x1__y1__x3__y3 ^ burning___x3__y3 ) ) ))\n",
      "\t\t\tthen false\n",
      "\t\t\telse Bernoulli(1.0 / ( 1.0 + exp[4.5 - ( ( NEIGHBOR___x1__y1__x1__y1 ^ burning___x1__y1 ) + ( NEIGHBOR___x1__y1__x1__y2 ^ burning___x1__y2 ) + ( NEIGHBOR___x1__y1__x1__y3 ^ burning___x1__y3 ) + ( NEIGHBOR___x1__y1__x2__y1 ^ burning___x2__y1 ) + ( NEIGHBOR___x1__y1__x2__y2 ^ burning___x2__y2 ) + ( NEIGHBOR___x1__y1__x2__y3 ^ burning___x2__y3 ) + ( NEIGHBOR___x1__y1__x3__y1 ^ burning___x3__y1 ) + ( NEIGHBOR___x1__y1__x3__y2 ^ burning___x3__y2 ) + ( NEIGHBOR___x1__y1__x3__y3 ^ burning___x3__y3 ) )] )) )\n",
      "\t\telse burning___x1__y1 )\n",
      "\n",
      "state-fluent burning___x1__y2' has the following cpf:\n",
      "if (put-out___x1__y2)\n",
      "\tthen false\n",
      "\telse ( if (( ~out-of-fuel___x1__y2 ) ^ ( ~burning___x1__y2 ))\n",
      "\t\tthen ( if (TARGET___x1__y2 ^ ( ~( ( NEIGHBOR___x1__y2__x1__y1 ^ burning___x1__y1 ) | ( NEIGHBOR___x1__y2__x1__y2 ^ burning___x1__y2 ) | ( NEIGHBOR___x1__y2__x1__y3 ^ burning___x1__y3 ) | ( NEIGHBOR___x1__y2__x2__y1 ^ burning___x2__y1 ) | ( NEIGHBOR___x1__y2__x2__y2 ^ burning___x2__y2 ) | ( NEIGHBOR___x1__y2__x2__y3 ^ burning___x2__y3 ) | ( NEIGHBOR___x1__y2__x3__y1 ^ burning___x3__y1 ) | ( NEIGHBOR___x1__y2__x3__y2 ^ burning___x3__y2 ) | ( NEIGHBOR___x1__y2__x3__y3 ^ burning___x3__y3 ) ) ))\n",
      "\t\t\tthen false\n",
      "\t\t\telse Bernoulli(1.0 / ( 1.0 + exp[4.5 - ( ( NEIGHBOR___x1__y2__x1__y1 ^ burning___x1__y1 ) + ( NEIGHBOR___x1__y2__x1__y2 ^ burning___x1__y2 ) + ( NEIGHBOR___x1__y2__x1__y3 ^ burning___x1__y3 ) + ( NEIGHBOR___x1__y2__x2__y1 ^ burning___x2__y1 ) + ( NEIGHBOR___x1__y2__x2__y2 ^ burning___x2__y2 ) + ( NEIGHBOR___x1__y2__x2__y3 ^ burning___x2__y3 ) + ( NEIGHBOR___x1__y2__x3__y1 ^ burning___x3__y1 ) + ( NEIGHBOR___x1__y2__x3__y2 ^ burning___x3__y2 ) + ( NEIGHBOR___x1__y2__x3__y3 ^ burning___x3__y3 ) )] )) )\n",
      "\t\telse burning___x1__y2 )\n",
      "\n",
      "state-fluent burning___x1__y3' has the following cpf:\n",
      "if (put-out___x1__y3)\n",
      "\tthen false\n",
      "\telse ( if (( ~out-of-fuel___x1__y3 ) ^ ( ~burning___x1__y3 ))\n",
      "\t\tthen ( if (TARGET___x1__y3 ^ ( ~( ( NEIGHBOR___x1__y3__x1__y1 ^ burning___x1__y1 ) | ( NEIGHBOR___x1__y3__x1__y2 ^ burning___x1__y2 ) | ( NEIGHBOR___x1__y3__x1__y3 ^ burning___x1__y3 ) | ( NEIGHBOR___x1__y3__x2__y1 ^ burning___x2__y1 ) | ( NEIGHBOR___x1__y3__x2__y2 ^ burning___x2__y2 ) | ( NEIGHBOR___x1__y3__x2__y3 ^ burning___x2__y3 ) | ( NEIGHBOR___x1__y3__x3__y1 ^ burning___x3__y1 ) | ( NEIGHBOR___x1__y3__x3__y2 ^ burning___x3__y2 ) | ( NEIGHBOR___x1__y3__x3__y3 ^ burning___x3__y3 ) ) ))\n",
      "\t\t\tthen false\n",
      "\t\t\telse Bernoulli(1.0 / ( 1.0 + exp[4.5 - ( ( NEIGHBOR___x1__y3__x1__y1 ^ burning___x1__y1 ) + ( NEIGHBOR___x1__y3__x1__y2 ^ burning___x1__y2 ) + ( NEIGHBOR___x1__y3__x1__y3 ^ burning___x1__y3 ) + ( NEIGHBOR___x1__y3__x2__y1 ^ burning___x2__y1 ) + ( NEIGHBOR___x1__y3__x2__y2 ^ burning___x2__y2 ) + ( NEIGHBOR___x1__y3__x2__y3 ^ burning___x2__y3 ) + ( NEIGHBOR___x1__y3__x3__y1 ^ burning___x3__y1 ) + ( NEIGHBOR___x1__y3__x3__y2 ^ burning___x3__y2 ) + ( NEIGHBOR___x1__y3__x3__y3 ^ burning___x3__y3 ) )] )) )\n",
      "\t\telse burning___x1__y3 )\n",
      "\n",
      "state-fluent burning___x2__y1' has the following cpf:\n",
      "if (put-out___x2__y1)\n",
      "\tthen false\n",
      "\telse ( if (( ~out-of-fuel___x2__y1 ) ^ ( ~burning___x2__y1 ))\n",
      "\t\tthen ( if (TARGET___x2__y1 ^ ( ~( ( NEIGHBOR___x2__y1__x1__y1 ^ burning___x1__y1 ) | ( NEIGHBOR___x2__y1__x1__y2 ^ burning___x1__y2 ) | ( NEIGHBOR___x2__y1__x1__y3 ^ burning___x1__y3 ) | ( NEIGHBOR___x2__y1__x2__y1 ^ burning___x2__y1 ) | ( NEIGHBOR___x2__y1__x2__y2 ^ burning___x2__y2 ) | ( NEIGHBOR___x2__y1__x2__y3 ^ burning___x2__y3 ) | ( NEIGHBOR___x2__y1__x3__y1 ^ burning___x3__y1 ) | ( NEIGHBOR___x2__y1__x3__y2 ^ burning___x3__y2 ) | ( NEIGHBOR___x2__y1__x3__y3 ^ burning___x3__y3 ) ) ))\n",
      "\t\t\tthen false\n",
      "\t\t\telse Bernoulli(1.0 / ( 1.0 + exp[4.5 - ( ( NEIGHBOR___x2__y1__x1__y1 ^ burning___x1__y1 ) + ( NEIGHBOR___x2__y1__x1__y2 ^ burning___x1__y2 ) + ( NEIGHBOR___x2__y1__x1__y3 ^ burning___x1__y3 ) + ( NEIGHBOR___x2__y1__x2__y1 ^ burning___x2__y1 ) + ( NEIGHBOR___x2__y1__x2__y2 ^ burning___x2__y2 ) + ( NEIGHBOR___x2__y1__x2__y3 ^ burning___x2__y3 ) + ( NEIGHBOR___x2__y1__x3__y1 ^ burning___x3__y1 ) + ( NEIGHBOR___x2__y1__x3__y2 ^ burning___x3__y2 ) + ( NEIGHBOR___x2__y1__x3__y3 ^ burning___x3__y3 ) )] )) )\n",
      "\t\telse burning___x2__y1 )\n",
      "\n",
      "state-fluent burning___x2__y2' has the following cpf:\n",
      "if (put-out___x2__y2)\n",
      "\tthen false\n",
      "\telse ( if (( ~out-of-fuel___x2__y2 ) ^ ( ~burning___x2__y2 ))\n",
      "\t\tthen ( if (TARGET___x2__y2 ^ ( ~( ( NEIGHBOR___x2__y2__x1__y1 ^ burning___x1__y1 ) | ( NEIGHBOR___x2__y2__x1__y2 ^ burning___x1__y2 ) | ( NEIGHBOR___x2__y2__x1__y3 ^ burning___x1__y3 ) | ( NEIGHBOR___x2__y2__x2__y1 ^ burning___x2__y1 ) | ( NEIGHBOR___x2__y2__x2__y2 ^ burning___x2__y2 ) | ( NEIGHBOR___x2__y2__x2__y3 ^ burning___x2__y3 ) | ( NEIGHBOR___x2__y2__x3__y1 ^ burning___x3__y1 ) | ( NEIGHBOR___x2__y2__x3__y2 ^ burning___x3__y2 ) | ( NEIGHBOR___x2__y2__x3__y3 ^ burning___x3__y3 ) ) ))\n",
      "\t\t\tthen false\n",
      "\t\t\telse Bernoulli(1.0 / ( 1.0 + exp[4.5 - ( ( NEIGHBOR___x2__y2__x1__y1 ^ burning___x1__y1 ) + ( NEIGHBOR___x2__y2__x1__y2 ^ burning___x1__y2 ) + ( NEIGHBOR___x2__y2__x1__y3 ^ burning___x1__y3 ) + ( NEIGHBOR___x2__y2__x2__y1 ^ burning___x2__y1 ) + ( NEIGHBOR___x2__y2__x2__y2 ^ burning___x2__y2 ) + ( NEIGHBOR___x2__y2__x2__y3 ^ burning___x2__y3 ) + ( NEIGHBOR___x2__y2__x3__y1 ^ burning___x3__y1 ) + ( NEIGHBOR___x2__y2__x3__y2 ^ burning___x3__y2 ) + ( NEIGHBOR___x2__y2__x3__y3 ^ burning___x3__y3 ) )] )) )\n",
      "\t\telse burning___x2__y2 )\n",
      "\n",
      "state-fluent burning___x2__y3' has the following cpf:\n",
      "if (put-out___x2__y3)\n",
      "\tthen false\n",
      "\telse ( if (( ~out-of-fuel___x2__y3 ) ^ ( ~burning___x2__y3 ))\n",
      "\t\tthen ( if (TARGET___x2__y3 ^ ( ~( ( NEIGHBOR___x2__y3__x1__y1 ^ burning___x1__y1 ) | ( NEIGHBOR___x2__y3__x1__y2 ^ burning___x1__y2 ) | ( NEIGHBOR___x2__y3__x1__y3 ^ burning___x1__y3 ) | ( NEIGHBOR___x2__y3__x2__y1 ^ burning___x2__y1 ) | ( NEIGHBOR___x2__y3__x2__y2 ^ burning___x2__y2 ) | ( NEIGHBOR___x2__y3__x2__y3 ^ burning___x2__y3 ) | ( NEIGHBOR___x2__y3__x3__y1 ^ burning___x3__y1 ) | ( NEIGHBOR___x2__y3__x3__y2 ^ burning___x3__y2 ) | ( NEIGHBOR___x2__y3__x3__y3 ^ burning___x3__y3 ) ) ))\n",
      "\t\t\tthen false\n",
      "\t\t\telse Bernoulli(1.0 / ( 1.0 + exp[4.5 - ( ( NEIGHBOR___x2__y3__x1__y1 ^ burning___x1__y1 ) + ( NEIGHBOR___x2__y3__x1__y2 ^ burning___x1__y2 ) + ( NEIGHBOR___x2__y3__x1__y3 ^ burning___x1__y3 ) + ( NEIGHBOR___x2__y3__x2__y1 ^ burning___x2__y1 ) + ( NEIGHBOR___x2__y3__x2__y2 ^ burning___x2__y2 ) + ( NEIGHBOR___x2__y3__x2__y3 ^ burning___x2__y3 ) + ( NEIGHBOR___x2__y3__x3__y1 ^ burning___x3__y1 ) + ( NEIGHBOR___x2__y3__x3__y2 ^ burning___x3__y2 ) + ( NEIGHBOR___x2__y3__x3__y3 ^ burning___x3__y3 ) )] )) )\n",
      "\t\telse burning___x2__y3 )\n",
      "\n",
      "state-fluent burning___x3__y1' has the following cpf:\n",
      "if (put-out___x3__y1)\n",
      "\tthen false\n",
      "\telse ( if (( ~out-of-fuel___x3__y1 ) ^ ( ~burning___x3__y1 ))\n",
      "\t\tthen ( if (TARGET___x3__y1 ^ ( ~( ( NEIGHBOR___x3__y1__x1__y1 ^ burning___x1__y1 ) | ( NEIGHBOR___x3__y1__x1__y2 ^ burning___x1__y2 ) | ( NEIGHBOR___x3__y1__x1__y3 ^ burning___x1__y3 ) | ( NEIGHBOR___x3__y1__x2__y1 ^ burning___x2__y1 ) | ( NEIGHBOR___x3__y1__x2__y2 ^ burning___x2__y2 ) | ( NEIGHBOR___x3__y1__x2__y3 ^ burning___x2__y3 ) | ( NEIGHBOR___x3__y1__x3__y1 ^ burning___x3__y1 ) | ( NEIGHBOR___x3__y1__x3__y2 ^ burning___x3__y2 ) | ( NEIGHBOR___x3__y1__x3__y3 ^ burning___x3__y3 ) ) ))\n",
      "\t\t\tthen false\n",
      "\t\t\telse Bernoulli(1.0 / ( 1.0 + exp[4.5 - ( ( NEIGHBOR___x3__y1__x1__y1 ^ burning___x1__y1 ) + ( NEIGHBOR___x3__y1__x1__y2 ^ burning___x1__y2 ) + ( NEIGHBOR___x3__y1__x1__y3 ^ burning___x1__y3 ) + ( NEIGHBOR___x3__y1__x2__y1 ^ burning___x2__y1 ) + ( NEIGHBOR___x3__y1__x2__y2 ^ burning___x2__y2 ) + ( NEIGHBOR___x3__y1__x2__y3 ^ burning___x2__y3 ) + ( NEIGHBOR___x3__y1__x3__y1 ^ burning___x3__y1 ) + ( NEIGHBOR___x3__y1__x3__y2 ^ burning___x3__y2 ) + ( NEIGHBOR___x3__y1__x3__y3 ^ burning___x3__y3 ) )] )) )\n",
      "\t\telse burning___x3__y1 )\n",
      "\n",
      "state-fluent burning___x3__y2' has the following cpf:\n",
      "if (put-out___x3__y2)\n",
      "\tthen false\n",
      "\telse ( if (( ~out-of-fuel___x3__y2 ) ^ ( ~burning___x3__y2 ))\n",
      "\t\tthen ( if (TARGET___x3__y2 ^ ( ~( ( NEIGHBOR___x3__y2__x1__y1 ^ burning___x1__y1 ) | ( NEIGHBOR___x3__y2__x1__y2 ^ burning___x1__y2 ) | ( NEIGHBOR___x3__y2__x1__y3 ^ burning___x1__y3 ) | ( NEIGHBOR___x3__y2__x2__y1 ^ burning___x2__y1 ) | ( NEIGHBOR___x3__y2__x2__y2 ^ burning___x2__y2 ) | ( NEIGHBOR___x3__y2__x2__y3 ^ burning___x2__y3 ) | ( NEIGHBOR___x3__y2__x3__y1 ^ burning___x3__y1 ) | ( NEIGHBOR___x3__y2__x3__y2 ^ burning___x3__y2 ) | ( NEIGHBOR___x3__y2__x3__y3 ^ burning___x3__y3 ) ) ))\n",
      "\t\t\tthen false\n",
      "\t\t\telse Bernoulli(1.0 / ( 1.0 + exp[4.5 - ( ( NEIGHBOR___x3__y2__x1__y1 ^ burning___x1__y1 ) + ( NEIGHBOR___x3__y2__x1__y2 ^ burning___x1__y2 ) + ( NEIGHBOR___x3__y2__x1__y3 ^ burning___x1__y3 ) + ( NEIGHBOR___x3__y2__x2__y1 ^ burning___x2__y1 ) + ( NEIGHBOR___x3__y2__x2__y2 ^ burning___x2__y2 ) + ( NEIGHBOR___x3__y2__x2__y3 ^ burning___x2__y3 ) + ( NEIGHBOR___x3__y2__x3__y1 ^ burning___x3__y1 ) + ( NEIGHBOR___x3__y2__x3__y2 ^ burning___x3__y2 ) + ( NEIGHBOR___x3__y2__x3__y3 ^ burning___x3__y3 ) )] )) )\n",
      "\t\telse burning___x3__y2 )\n",
      "\n",
      "state-fluent burning___x3__y3' has the following cpf:\n",
      "if (put-out___x3__y3)\n",
      "\tthen false\n",
      "\telse ( if (( ~out-of-fuel___x3__y3 ) ^ ( ~burning___x3__y3 ))\n",
      "\t\tthen ( if (TARGET___x3__y3 ^ ( ~( ( NEIGHBOR___x3__y3__x1__y1 ^ burning___x1__y1 ) | ( NEIGHBOR___x3__y3__x1__y2 ^ burning___x1__y2 ) | ( NEIGHBOR___x3__y3__x1__y3 ^ burning___x1__y3 ) | ( NEIGHBOR___x3__y3__x2__y1 ^ burning___x2__y1 ) | ( NEIGHBOR___x3__y3__x2__y2 ^ burning___x2__y2 ) | ( NEIGHBOR___x3__y3__x2__y3 ^ burning___x2__y3 ) | ( NEIGHBOR___x3__y3__x3__y1 ^ burning___x3__y1 ) | ( NEIGHBOR___x3__y3__x3__y2 ^ burning___x3__y2 ) | ( NEIGHBOR___x3__y3__x3__y3 ^ burning___x3__y3 ) ) ))\n",
      "\t\t\tthen false\n",
      "\t\t\telse Bernoulli(1.0 / ( 1.0 + exp[4.5 - ( ( NEIGHBOR___x3__y3__x1__y1 ^ burning___x1__y1 ) + ( NEIGHBOR___x3__y3__x1__y2 ^ burning___x1__y2 ) + ( NEIGHBOR___x3__y3__x1__y3 ^ burning___x1__y3 ) + ( NEIGHBOR___x3__y3__x2__y1 ^ burning___x2__y1 ) + ( NEIGHBOR___x3__y3__x2__y2 ^ burning___x2__y2 ) + ( NEIGHBOR___x3__y3__x2__y3 ^ burning___x2__y3 ) + ( NEIGHBOR___x3__y3__x3__y1 ^ burning___x3__y1 ) + ( NEIGHBOR___x3__y3__x3__y2 ^ burning___x3__y2 ) + ( NEIGHBOR___x3__y3__x3__y3 ^ burning___x3__y3 ) )] )) )\n",
      "\t\telse burning___x3__y3 )\n",
      "\n",
      "state-fluent out-of-fuel___x1__y1' has the following cpf:\n",
      "( out-of-fuel___x1__y1 | burning___x1__y1 ) | ( ( ~TARGET___x1__y1 ) ^ cut-out___x1__y1 )\n",
      "\n",
      "state-fluent out-of-fuel___x1__y2' has the following cpf:\n",
      "( out-of-fuel___x1__y2 | burning___x1__y2 ) | ( ( ~TARGET___x1__y2 ) ^ cut-out___x1__y2 )\n",
      "\n",
      "state-fluent out-of-fuel___x1__y3' has the following cpf:\n",
      "( out-of-fuel___x1__y3 | burning___x1__y3 ) | ( ( ~TARGET___x1__y3 ) ^ cut-out___x1__y3 )\n",
      "\n",
      "state-fluent out-of-fuel___x2__y1' has the following cpf:\n",
      "( out-of-fuel___x2__y1 | burning___x2__y1 ) | ( ( ~TARGET___x2__y1 ) ^ cut-out___x2__y1 )\n",
      "\n",
      "state-fluent out-of-fuel___x2__y2' has the following cpf:\n",
      "( out-of-fuel___x2__y2 | burning___x2__y2 ) | ( ( ~TARGET___x2__y2 ) ^ cut-out___x2__y2 )\n",
      "\n",
      "state-fluent out-of-fuel___x2__y3' has the following cpf:\n",
      "( out-of-fuel___x2__y3 | burning___x2__y3 ) | ( ( ~TARGET___x2__y3 ) ^ cut-out___x2__y3 )\n",
      "\n",
      "state-fluent out-of-fuel___x3__y1' has the following cpf:\n",
      "( out-of-fuel___x3__y1 | burning___x3__y1 ) | ( ( ~TARGET___x3__y1 ) ^ cut-out___x3__y1 )\n",
      "\n",
      "state-fluent out-of-fuel___x3__y2' has the following cpf:\n",
      "( out-of-fuel___x3__y2 | burning___x3__y2 ) | ( ( ~TARGET___x3__y2 ) ^ cut-out___x3__y2 )\n",
      "\n",
      "state-fluent out-of-fuel___x3__y3' has the following cpf:\n",
      "( out-of-fuel___x3__y3 | burning___x3__y3 ) | ( ( ~TARGET___x3__y3 ) ^ cut-out___x3__y3 )\n",
      "\n"
     ]
    }
   ],
   "source": [
    "for fluent, expr in RDDLDecompiler().decompile_exprs(grounded_model)['cpfs'].items():\n",
    "    print(f'state-fluent {fluent} has the following cpf:\\n{expr}\\n')"
   ]
  },
  {
   "cell_type": "markdown",
   "id": "04c7746b-e86f-43a4-af99-ffe576d70045",
   "metadata": {},
   "source": [
    "As you can see, all state-fluents with parameters have been replaced by new state-fluents without parameters, and expressions are replaced with equivalent operations that are parameter-free."
   ]
  }
 ],
 "metadata": {
  "kernelspec": {
   "display_name": "Python 3 (ipykernel)",
   "language": "python",
   "name": "python3"
  },
  "language_info": {
   "codemirror_mode": {
    "name": "ipython",
    "version": 3
   },
   "file_extension": ".py",
   "mimetype": "text/x-python",
   "name": "python",
   "nbconvert_exporter": "python",
   "pygments_lexer": "ipython3",
   "version": "3.12.7"
  }
 },
 "nbformat": 4,
 "nbformat_minor": 5
}
