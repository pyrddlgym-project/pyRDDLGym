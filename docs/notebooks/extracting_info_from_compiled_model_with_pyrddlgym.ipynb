{
 "cells": [
  {
   "cell_type": "markdown",
   "id": "9268ff21-bce0-48cd-86bc-aac657800601",
   "metadata": {},
   "source": [
    "# Extracting information from the compiled planning problem."
   ]
  },
  {
   "cell_type": "markdown",
   "id": "20b57447-4224-4bab-851c-b311159bb746",
   "metadata": {},
   "source": [
    "In this intermediate notebook, we discuss how to access the underlying compiled planning problem."
   ]
  },
  {
   "cell_type": "markdown",
   "id": "110dae5d-ab62-4c7f-9312-6764e5611192",
   "metadata": {},
   "source": [
    "First install the required packages:"
   ]
  },
  {
   "cell_type": "code",
   "execution_count": 1,
   "id": "ebb50d56-0e9b-49fc-8cf0-63260d8ba03f",
   "metadata": {},
   "outputs": [
    {
     "name": "stdout",
     "output_type": "stream",
     "text": [
      "Note: you may need to restart the kernel to use updated packages.\n",
      "Note: you may need to restart the kernel to use updated packages.\n"
     ]
    }
   ],
   "source": [
    "%pip install --quiet --upgrade pip\n",
    "%pip install --quiet pyRDDLGym rddlrepository"
   ]
  },
  {
   "cell_type": "markdown",
   "id": "37cd5e0e-5aea-4d70-b66d-ddeec2f1725f",
   "metadata": {},
   "source": [
    "Import the required packages:"
   ]
  },
  {
   "cell_type": "code",
   "execution_count": 2,
   "id": "b2a2bc1b-f3f2-4727-9d71-f6dfc7cb45aa",
   "metadata": {},
   "outputs": [],
   "source": [
    "import pyRDDLGym"
   ]
  },
  {
   "cell_type": "markdown",
   "id": "04262f93-52e7-4e40-8f92-6d3ccd1e775a",
   "metadata": {},
   "source": [
    "We will use the Wildfire problem from the IPPC 2014 as our illustrative example:"
   ]
  },
  {
   "cell_type": "code",
   "execution_count": 3,
   "id": "5b968d42-27d2-4092-b108-d839929f263a",
   "metadata": {},
   "outputs": [],
   "source": [
    "env = pyRDDLGym.make('Wildfire_MDP_ippc2014', '1')"
   ]
  },
  {
   "cell_type": "markdown",
   "id": "754c5c33-0fc9-413d-95e8-7217d49f0515",
   "metadata": {},
   "source": [
    "The compiled information about the planning problem is stored in the environment's ``model`` field:"
   ]
  },
  {
   "cell_type": "code",
   "execution_count": 4,
   "id": "8fa19524-ced4-41c1-b39c-d10730459bdc",
   "metadata": {},
   "outputs": [
    {
     "data": {
      "text/plain": [
       "<pyRDDLGym.core.compiler.model.RDDLLiftedModel at 0x27135d1f860>"
      ]
     },
     "execution_count": 4,
     "metadata": {},
     "output_type": "execute_result"
    }
   ],
   "source": [
    "env.model"
   ]
  },
  {
   "cell_type": "markdown",
   "id": "d61f5ec0-a495-4b83-b112-51b8fc85a612",
   "metadata": {},
   "source": [
    "To extract the domain and instance names:"
   ]
  },
  {
   "cell_type": "code",
   "execution_count": 5,
   "id": "4ec6f1e7-98ca-4ed8-be06-d6b54998533e",
   "metadata": {},
   "outputs": [
    {
     "name": "stdout",
     "output_type": "stream",
     "text": [
      "wildfire_mdp\n",
      "wildfire_inst_mdp__1\n"
     ]
    }
   ],
   "source": [
    "print(env.model.domain_name)\n",
    "print(env.model.instance_name)"
   ]
  },
  {
   "cell_type": "markdown",
   "id": "5133e0bc-ecb5-4f99-943a-5521b3a00cd4",
   "metadata": {},
   "source": [
    "To get the objects of each domain and enum type:"
   ]
  },
  {
   "cell_type": "code",
   "execution_count": 6,
   "id": "6706d353-be9d-41e5-b9e8-3956c45845dc",
   "metadata": {},
   "outputs": [
    {
     "name": "stdout",
     "output_type": "stream",
     "text": [
      "{'x_pos': ['x1', 'x2', 'x3'], 'y_pos': ['y1', 'y2', 'y3']}\n",
      "set()\n"
     ]
    }
   ],
   "source": [
    "print(env.model.type_to_objects)\n",
    "print(env.model.enum_types)"
   ]
  },
  {
   "cell_type": "markdown",
   "id": "4e7e1b52-b93f-4e19-b2f3-96ec51307ead",
   "metadata": {},
   "source": [
    "To get all fluents by category, with their default values:"
   ]
  },
  {
   "cell_type": "code",
   "execution_count": 7,
   "id": "9b3a57d4-985a-44a2-bf09-da35b6a17c4c",
   "metadata": {},
   "outputs": [
    {
     "name": "stdout",
     "output_type": "stream",
     "text": [
      "dict_keys(['COST_CUTOUT', 'COST_PUTOUT', 'PENALTY_TARGET_BURN', 'PENALTY_NONTARGET_BURN', 'NEIGHBOR', 'TARGET'])\n",
      "dict_keys(['burning', 'out-of-fuel'])\n",
      "dict_keys(['put-out', 'cut-out'])\n",
      "dict_keys([])\n",
      "dict_keys([])\n",
      "dict_keys([])\n"
     ]
    }
   ],
   "source": [
    "print(env.model.non_fluents.keys())\n",
    "print(env.model.state_fluents.keys())\n",
    "print(env.model.action_fluents.keys())\n",
    "print(env.model.derived_fluents.keys())\n",
    "print(env.model.interm_fluents.keys())\n",
    "print(env.model.observ_fluents.keys())"
   ]
  },
  {
   "cell_type": "markdown",
   "id": "f46daf53-d132-4177-933b-3b1bbc93d1cd",
   "metadata": {},
   "source": [
    "To get the value ranges of all fluents:"
   ]
  },
  {
   "cell_type": "code",
   "execution_count": 8,
   "id": "81c601be-36ae-4663-9a47-940b666743e6",
   "metadata": {},
   "outputs": [
    {
     "name": "stdout",
     "output_type": "stream",
     "text": [
      "{'COST_CUTOUT': 'real', 'COST_PUTOUT': 'real', 'PENALTY_TARGET_BURN': 'real', 'PENALTY_NONTARGET_BURN': 'real', 'NEIGHBOR': 'bool', 'TARGET': 'bool', 'burning': 'bool', \"burning'\": 'bool', 'out-of-fuel': 'bool', \"out-of-fuel'\": 'bool', 'put-out': 'bool', 'cut-out': 'bool'}\n"
     ]
    }
   ],
   "source": [
    "print(env.model.variable_ranges)"
   ]
  },
  {
   "cell_type": "markdown",
   "id": "f9200b58-c97f-4cc4-9253-2b0e9f166442",
   "metadata": {},
   "source": [
    "To get the variable parameters of each fluent:"
   ]
  },
  {
   "cell_type": "code",
   "execution_count": 9,
   "id": "6405efa8-28c0-43e9-bb99-ff0caac62891",
   "metadata": {},
   "outputs": [
    {
     "name": "stdout",
     "output_type": "stream",
     "text": [
      "{'COST_CUTOUT': [], 'COST_PUTOUT': [], 'PENALTY_TARGET_BURN': [], 'PENALTY_NONTARGET_BURN': [], 'NEIGHBOR': ['x_pos', 'y_pos', 'x_pos', 'y_pos'], 'TARGET': ['x_pos', 'y_pos'], 'burning': ['x_pos', 'y_pos'], \"burning'\": ['x_pos', 'y_pos'], 'out-of-fuel': ['x_pos', 'y_pos'], \"out-of-fuel'\": ['x_pos', 'y_pos'], 'put-out': ['x_pos', 'y_pos'], 'cut-out': ['x_pos', 'y_pos']}\n"
     ]
    }
   ],
   "source": [
    "print(env.model.variable_params)"
   ]
  },
  {
   "cell_type": "markdown",
   "id": "1e7e5dfb-7a91-44ce-ac53-8a6e71e2202a",
   "metadata": {},
   "source": [
    "To get all CPF expressions:"
   ]
  },
  {
   "cell_type": "code",
   "execution_count": 10,
   "id": "5b8e9aa1-720c-4b08-855e-f53281d03673",
   "metadata": {},
   "outputs": [
    {
     "name": "stdout",
     "output_type": "stream",
     "text": [
      "{\"burning'\": ([('?x', 'x_pos'), ('?y', 'y_pos')], <pyRDDLGym.core.parser.expr.Expression object at 0x0000027135E56480>), \"out-of-fuel'\": ([('?x', 'x_pos'), ('?y', 'y_pos')], <pyRDDLGym.core.parser.expr.Expression object at 0x0000027135E56F60>)}\n"
     ]
    }
   ],
   "source": [
    "print(env.model.cpfs)"
   ]
  },
  {
   "cell_type": "markdown",
   "id": "869eed22-f4ef-438c-ae69-87100737880e",
   "metadata": {},
   "source": [
    "To get the reward function expression:"
   ]
  },
  {
   "cell_type": "code",
   "execution_count": 11,
   "id": "eb385435-b840-45c9-a4f5-73c2ecaa62e4",
   "metadata": {},
   "outputs": [
    {
     "name": "stdout",
     "output_type": "stream",
     "text": [
      "Expression(etype=('arithmetic', '+'), args=\n",
      "    Expression(etype=('arithmetic', '+'), args=\n",
      "        Expression(etype=('arithmetic', '+'), args=\n",
      "            Expression(etype=('aggregation', 'sum'), args=\n",
      "                ('typed_var', ('?x', 'x_pos'))\n",
      "                ('typed_var', ('?y', 'y_pos'))\n",
      "                Expression(etype=('arithmetic', '*'), args=\n",
      "                    Expression(etype=('pvar', 'COST_CUTOUT'), args=('COST_CUTOUT', None))\n",
      "                    Expression(etype=('pvar', 'cut-out'), args=(cut-out, [?x, ?y]))))\n",
      "            Expression(etype=('aggregation', 'sum'), args=\n",
      "                ('typed_var', ('?x', 'x_pos'))\n",
      "                ('typed_var', ('?y', 'y_pos'))\n",
      "                Expression(etype=('arithmetic', '*'), args=\n",
      "                    Expression(etype=('pvar', 'COST_PUTOUT'), args=('COST_PUTOUT', None))\n",
      "                    Expression(etype=('pvar', 'put-out'), args=(put-out, [?x, ?y])))))\n",
      "        Expression(etype=('aggregation', 'sum'), args=\n",
      "            ('typed_var', ('?x', 'x_pos'))\n",
      "            ('typed_var', ('?y', 'y_pos'))\n",
      "            Expression(etype=('arithmetic', '*'), args=\n",
      "                Expression(etype=('pvar', 'PENALTY_TARGET_BURN'), args=('PENALTY_TARGET_BURN', None))\n",
      "                Expression(etype=('boolean', '^'), args=\n",
      "                    Expression(etype=('boolean', '|'), args=\n",
      "                        Expression(etype=('pvar', 'burning'), args=(burning, [?x, ?y]))\n",
      "                        Expression(etype=('pvar', 'out-of-fuel'), args=(out-of-fuel, [?x, ?y])))\n",
      "                    Expression(etype=('pvar', 'TARGET'), args=(TARGET, [?x, ?y]))))))\n",
      "    Expression(etype=('aggregation', 'sum'), args=\n",
      "        ('typed_var', ('?x', 'x_pos'))\n",
      "        ('typed_var', ('?y', 'y_pos'))\n",
      "        Expression(etype=('arithmetic', '*'), args=\n",
      "            Expression(etype=('pvar', 'PENALTY_NONTARGET_BURN'), args=('PENALTY_NONTARGET_BURN', None))\n",
      "            Expression(etype=('boolean', '^'), args=\n",
      "                Expression(etype=('pvar', 'burning'), args=(burning, [?x, ?y]))\n",
      "                Expression(etype=('boolean', '~'), args=\n",
      "                    Expression(etype=('pvar', 'TARGET'), args=(TARGET, [?x, ?y])))))))\n"
     ]
    }
   ],
   "source": [
    "print(env.model.reward)"
   ]
  },
  {
   "cell_type": "markdown",
   "id": "0703f0e9-11aa-4ab8-bf73-204a90a7d9b5",
   "metadata": {},
   "source": [
    "To get the precondition and invariant expressions:"
   ]
  },
  {
   "cell_type": "code",
   "execution_count": 12,
   "id": "d01f2d0e-d38b-4a78-98dd-d4920d651c4a",
   "metadata": {},
   "outputs": [
    {
     "name": "stdout",
     "output_type": "stream",
     "text": [
      "[]\n",
      "[]\n"
     ]
    }
   ],
   "source": [
    "print(env.model.preconditions)\n",
    "print(env.model.invariants)"
   ]
  },
  {
   "cell_type": "markdown",
   "id": "a60453ba-3b96-4ea9-9ecc-3fa070fec52d",
   "metadata": {},
   "source": [
    "To get the discount factor, horizon, action concurrency number:"
   ]
  },
  {
   "cell_type": "code",
   "execution_count": 13,
   "id": "c458b35a-5060-43dc-94f3-74d64c7bd395",
   "metadata": {},
   "outputs": [
    {
     "name": "stdout",
     "output_type": "stream",
     "text": [
      "1.0\n",
      "40\n",
      "1\n"
     ]
    }
   ],
   "source": [
    "print(env.model.discount)\n",
    "print(env.model.horizon)\n",
    "print(env.model.max_allowed_actions)"
   ]
  },
  {
   "cell_type": "markdown",
   "id": "e70b81a4-cae8-4f85-9f06-ec4888bfe4a1",
   "metadata": {},
   "source": [
    "To ground out a variable tensor into a dictionary of grounded fluents with values:"
   ]
  },
  {
   "cell_type": "code",
   "execution_count": 14,
   "id": "d6ac8db0-7b25-492e-a439-8da3d10f6d7d",
   "metadata": {},
   "outputs": [
    {
     "name": "stdout",
     "output_type": "stream",
     "text": [
      "{'put-out___x1__y1': np.True_, 'put-out___x1__y2': np.True_, 'put-out___x1__y3': np.False_, 'put-out___x2__y1': np.True_, 'put-out___x2__y2': np.False_, 'put-out___x2__y3': np.True_, 'put-out___x3__y1': np.False_, 'put-out___x3__y2': np.True_, 'put-out___x3__y3': np.False_}\n"
     ]
    }
   ],
   "source": [
    "print(dict(env.model.ground_var_with_values('put-out', [True, True, False, True, False, True, False, True, False])))"
   ]
  },
  {
   "cell_type": "markdown",
   "id": "6030d428-f1a1-4efa-9e39-45a6062271fc",
   "metadata": {},
   "source": [
    "To determine whether an expression object is non-fluent (does not change value across decision time steps):"
   ]
  },
  {
   "cell_type": "code",
   "execution_count": 15,
   "id": "0170f914-4466-4f20-90bc-12fd7d003f2c",
   "metadata": {},
   "outputs": [
    {
     "name": "stdout",
     "output_type": "stream",
     "text": [
      "False\n"
     ]
    }
   ],
   "source": [
    "print(env.model.is_non_fluent_expression(env.model.reward))"
   ]
  }
 ],
 "metadata": {
  "kernelspec": {
   "display_name": "Python 3 (ipykernel)",
   "language": "python",
   "name": "python3"
  },
  "language_info": {
   "codemirror_mode": {
    "name": "ipython",
    "version": 3
   },
   "file_extension": ".py",
   "mimetype": "text/x-python",
   "name": "python",
   "nbconvert_exporter": "python",
   "pygments_lexer": "ipython3",
   "version": "3.12.7"
  }
 },
 "nbformat": 4,
 "nbformat_minor": 5
}
