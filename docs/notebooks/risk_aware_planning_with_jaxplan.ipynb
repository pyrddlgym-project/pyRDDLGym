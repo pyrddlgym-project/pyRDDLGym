{
 "cells": [
  {
   "cell_type": "markdown",
   "id": "6a55ba5c-c340-4cba-a403-8598b6f58ebf",
   "metadata": {},
   "source": [
    "# Risk-aware planning with RAPTOR in JaxPlan."
   ]
  },
  {
   "cell_type": "markdown",
   "id": "192302d9-2333-4afb-a99b-8478bdea0474",
   "metadata": {},
   "source": [
    "This variation of the closed-loop planning notebook optimizes a nonlinear risk-aware utility function."
   ]
  },
  {
   "cell_type": "code",
   "execution_count": 1,
   "id": "9f2409f5-581c-420c-94e9-25277908707c",
   "metadata": {},
   "outputs": [
    {
     "name": "stdout",
     "output_type": "stream",
     "text": [
      "Note: you may need to restart the kernel to use updated packages.\n",
      "Note: you may need to restart the kernel to use updated packages.\n",
      "Note: you may need to restart the kernel to use updated packages.\n"
     ]
    }
   ],
   "source": [
    "%pip install --quiet --upgrade pip\n",
    "%pip install --quiet seaborn\n",
    "%pip install --quiet pyRDDLGym rddlrepository pyRDDLGym-jax"
   ]
  },
  {
   "cell_type": "markdown",
   "id": "4f0e20fd-2a31-4bd2-9c45-8e83cb3f9599",
   "metadata": {},
   "source": [
    "Import the required packages:"
   ]
  },
  {
   "cell_type": "code",
   "execution_count": 2,
   "id": "e2581e8c-bb14-4bcf-abcc-82bfea01ce1a",
   "metadata": {},
   "outputs": [],
   "source": [
    "import warnings\n",
    "warnings.filterwarnings(\"ignore\", category=UserWarning)\n",
    "import matplotlib.pyplot as plt\n",
    "import seaborn as sns\n",
    "\n",
    "import pyRDDLGym\n",
    "from pyRDDLGym_jax.core.planner import JaxBackpropPlanner, JaxOfflineController, load_config_from_string"
   ]
  },
  {
   "cell_type": "markdown",
   "id": "7c69d2ac-2cb7-4ae8-8a91-ae8e09c21e95",
   "metadata": {},
   "source": [
    "Let's optimize the power generation domain from the IPPC 2023:"
   ]
  },
  {
   "cell_type": "code",
   "execution_count": 3,
   "id": "3472b472-670b-4f60-9ad5-e9d40e90516b",
   "metadata": {},
   "outputs": [],
   "source": [
    "env = pyRDDLGym.make('PowerGen_Continuous', '0', vectorized=True)"
   ]
  },
  {
   "cell_type": "markdown",
   "id": "ae802808-521a-4c06-9bf5-ace9adbff8b3",
   "metadata": {},
   "source": [
    "Let's generate a risk-neutral baseline from the policy network:"
   ]
  },
  {
   "cell_type": "code",
   "execution_count": 4,
   "id": "e9894e93-b816-45dc-b437-38d6f4ab1896",
   "metadata": {},
   "outputs": [
    {
     "name": "stdout",
     "output_type": "stream",
     "text": [
      "\u001b[32m[INFO] Bounds of action-fluent <curProd> set to (array([0., 0., 0.], dtype=float32), array([10., 10., 10.], dtype=float32)).\u001b[0m\n",
      "\u001b[33m[WARN] policy_hyperparams is not set, setting 1.0 for all action-fluents which could be suboptimal.\u001b[0m\n"
     ]
    },
    {
     "name": "stderr",
     "output_type": "stream",
     "text": [
      "      0 it /   -39962.28125 train /   -39936.25000 test /   -39936.25000 best / 0 status /      0 pgpe:   7%| | 00:02 ,"
     ]
    },
    {
     "name": "stdout",
     "output_type": "stream",
     "text": [
      "\u001b[31m[FAIL] Compiler encountered the following error(s) in the training model:\n",
      "    Casting occurred that could result in loss of precision.\u001b[0m\n"
     ]
    },
    {
     "name": "stderr",
     "output_type": "stream",
     "text": [
      "   2015 it /   -19916.61133 train /       -8.90299 test /       93.52242 best / 5 status /      0 pgpe: 100%|█| 00:39 ,\n"
     ]
    },
    {
     "name": "stdout",
     "output_type": "stream",
     "text": [
      "\n"
     ]
    }
   ],
   "source": [
    "config = \"\"\"\n",
    "[Model]\n",
    "[Optimizer]\n",
    "method='JaxDeepReactivePolicy'\n",
    "method_kwargs={'topology': [64, 64]}\n",
    "optimizer_kwargs={'learning_rate': 0.0002}\n",
    "batch_size_train=128\n",
    "pgpe=None\n",
    "[Training]\n",
    "\"\"\"\n",
    "planner_args, _, train_args = load_config_from_string(config)\n",
    "planner = JaxBackpropPlanner(rddl=env.model, **planner_args)\n",
    "agent = JaxOfflineController(planner, print_summary=False, train_seconds=40, **train_args)\n",
    "drp_returns = [agent.evaluate(env, episodes=1)['mean'] for _ in range(200)]"
   ]
  },
  {
   "cell_type": "markdown",
   "id": "1bbf6943-baf8-4075-887e-64fdc2826d5c",
   "metadata": {},
   "source": [
    "Next, let's repeat the example, but this time we will use the conditional value at risk to optimize the lower 10 percent of the returns. This should produce a policy that is more robust against power shortages:"
   ]
  },
  {
   "cell_type": "code",
   "execution_count": 5,
   "id": "c12b7e6a-5865-4ef1-a76e-8ba47fe5ccb3",
   "metadata": {},
   "outputs": [
    {
     "name": "stdout",
     "output_type": "stream",
     "text": [
      "\u001b[32m[INFO] Bounds of action-fluent <curProd> set to (array([0., 0., 0.], dtype=float32), array([10., 10., 10.], dtype=float32)).\u001b[0m\n",
      "\u001b[33m[WARN] policy_hyperparams is not set, setting 1.0 for all action-fluents which could be suboptimal.\u001b[0m\n"
     ]
    },
    {
     "name": "stderr",
     "output_type": "stream",
     "text": [
      "      0 it /   -39881.78125 train /   -39852.84375 test /   -39852.84375 best / 0 status /      0 pgpe:   6%| | 00:01 ,"
     ]
    },
    {
     "name": "stdout",
     "output_type": "stream",
     "text": [
      "\u001b[31m[FAIL] Compiler encountered the following error(s) in the training model:\n",
      "    Casting occurred that could result in loss of precision.\u001b[0m\n"
     ]
    },
    {
     "name": "stderr",
     "output_type": "stream",
     "text": [
      "   2043 it /   -19964.64062 train /     -185.54391 test /     -131.83517 best / 5 status /      0 pgpe: 100%|█| 00:39 ,\n"
     ]
    },
    {
     "name": "stdout",
     "output_type": "stream",
     "text": [
      "\n"
     ]
    }
   ],
   "source": [
    "config = \"\"\"\n",
    "[Model]\n",
    "[Optimizer]\n",
    "method='JaxDeepReactivePolicy'\n",
    "method_kwargs={'topology': [64, 64]}\n",
    "optimizer_kwargs={'learning_rate': 0.0002}\n",
    "utility='cvar'\n",
    "utility_kwargs={'alpha': 0.1}\n",
    "batch_size_train=128\n",
    "pgpe=None\n",
    "[Training]\n",
    "\"\"\"\n",
    "planner_args, _, train_args = load_config_from_string(config)\n",
    "planner = JaxBackpropPlanner(rddl=env.model, **planner_args)\n",
    "agent = JaxOfflineController(planner, print_summary=False, train_seconds=40, **train_args)\n",
    "risk_returns = [agent.evaluate(env, episodes=1)['mean'] for _ in range(200)]"
   ]
  },
  {
   "cell_type": "markdown",
   "id": "4412a387-de8a-4c19-8608-70984e363f10",
   "metadata": {},
   "source": [
    "Finally, let's plot two overlapping histograms comparing the distribution of returns for the two plans:"
   ]
  },
  {
   "cell_type": "code",
   "execution_count": 6,
   "id": "e392552f-aa85-44de-a7be-54bf5bb8242e",
   "metadata": {},
   "outputs": [
    {
     "data": {
      "image/png": "[encoded data removed]",
      "text/plain": [
       "<Figure size 640x480 with 1 Axes>"
      ]
     },
     "metadata": {},
     "output_type": "display_data"
    }
   ],
   "source": [
    "%matplotlib inline\n",
    "ax = sns.violinplot(data=[drp_returns, risk_returns], orient='h')\n",
    "ax.set_yticklabels(['Risk-Neutral', 'Risk-Averse'])\n",
    "plt.show()"
   ]
  },
  {
   "cell_type": "markdown",
   "id": "2a41f3a9-a890-4241-9c04-ca12a5869745",
   "metadata": {},
   "source": [
    "As you can see, the returns are more stable with the utility objective."
   ]
  }
 ],
 "metadata": {
  "kernelspec": {
   "display_name": "Python 3 (ipykernel)",
   "language": "python",
   "name": "python3"
  },
  "language_info": {
   "codemirror_mode": {
    "name": "ipython",
    "version": 3
   },
   "file_extension": ".py",
   "mimetype": "text/x-python",
   "name": "python",
   "nbconvert_exporter": "python",
   "pygments_lexer": "ipython3",
   "version": "3.12.7"
  }
 },
 "nbformat": 4,
 "nbformat_minor": 5
}
