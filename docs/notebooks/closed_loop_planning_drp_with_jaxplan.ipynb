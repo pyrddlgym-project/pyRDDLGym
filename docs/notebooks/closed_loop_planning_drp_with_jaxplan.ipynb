{
 "cells": [
  {
   "cell_type": "markdown",
   "id": "d178412c",
   "metadata": {},
   "source": [
    "# Closed-loop planning with deep reactive policies in JaxPlan."
   ]
  },
  {
   "cell_type": "markdown",
   "id": "ac2cd736",
   "metadata": {},
   "source": [
    "This rudimentary example compares the performance of a closed-loop and open-loop controller in JaxPlan on a stochastic domain. The closed loop controller learns a policy network that takes the state of the system as input, and produces an action-fluent as output."
   ]
  },
  {
   "cell_type": "code",
   "execution_count": 1,
   "id": "f10e7db1",
   "metadata": {},
   "outputs": [
    {
     "name": "stdout",
     "output_type": "stream",
     "text": [
      "Note: you may need to restart the kernel to use updated packages.\n",
      "Note: you may need to restart the kernel to use updated packages.\n",
      "Note: you may need to restart the kernel to use updated packages.\n",
      "Note: you may need to restart the kernel to use updated packages.\n",
      "Note: you may need to restart the kernel to use updated packages.\n"
     ]
    }
   ],
   "source": [
    "%pip install --quiet --upgrade pip\n",
    "%pip install --quiet seaborn\n",
    "%pip install --quiet git+https://github.com/pyrddlgym-project/pyRDDLGym.git\n",
    "%pip install --quiet git+https://github.com/pyrddlgym-project/rddlrepository.git\n",
    "%pip install --quiet git+https://github.com/pyrddlgym-project/pyRDDLGym-jax.git"
   ]
  },
  {
   "cell_type": "markdown",
   "id": "75229c6a",
   "metadata": {},
   "source": [
    "Import the required packages:"
   ]
  },
  {
   "cell_type": "code",
   "execution_count": 2,
   "id": "1199a7aa",
   "metadata": {},
   "outputs": [],
   "source": [
    "import warnings\n",
    "warnings.filterwarnings(\"ignore\", category=UserWarning)\n",
    "import matplotlib.pyplot as plt\n",
    "import seaborn as sns\n",
    "\n",
    "import pyRDDLGym\n",
    "from pyRDDLGym_jax.core.planner import JaxBackpropPlanner, JaxOfflineController, load_config_from_string"
   ]
  },
  {
   "cell_type": "markdown",
   "id": "a8d74b3b",
   "metadata": {},
   "source": [
    "We will optimize the stochastic Wildfire problem from IPPC 2014. Note again the use of the ``vectorized`` option:"
   ]
  },
  {
   "cell_type": "code",
   "execution_count": 3,
   "id": "9209582d",
   "metadata": {},
   "outputs": [],
   "source": [
    "env = pyRDDLGym.make('Wildfire_MDP_ippc2014', '1', vectorized=True)"
   ]
  },
  {
   "cell_type": "markdown",
   "id": "a51ff786",
   "metadata": {},
   "source": [
    "Let's generate a baseline using the straightline planner, and see if we can improve upon it:"
   ]
  },
  {
   "cell_type": "code",
   "execution_count": 4,
   "id": "68209796",
   "metadata": {},
   "outputs": [
    {
     "name": "stdout",
     "output_type": "stream",
     "text": [
      "\u001b[32m[INFO] JAX gradient compiler will cast p-vars {'out-of-fuel', \"out-of-fuel'\", 'NEIGHBOR', \"burning'\", 'cut-out', 'burning', 'put-out', 'TARGET'} to float.\u001b[0m\n",
      "\u001b[32m[INFO] JAX gradient compiler will cast CPFs {\"out-of-fuel'\", \"burning'\"} to float.\u001b[0m\n",
      "\u001b[32m[INFO] Bounds of action-fluent <put-out> set to (None, None).\u001b[0m\n",
      "\u001b[32m[INFO] Bounds of action-fluent <cut-out> set to (None, None).\u001b[0m\n",
      "\u001b[32m[INFO] SLP will use projected gradient to satisfy max_nondef_actions since total boolean actions 18 > max_nondef_actions 1.\u001b[0m\n",
      "\u001b[33m[WARN] policy_hyperparams is not set, setting 1.0 for all action-fluents which could be suboptimal.\u001b[0m\n"
     ]
    },
    {
     "name": "stderr",
     "output_type": "stream",
     "text": [
      "      0 it /    -2886.56128 train /    -7565.78125 test /    -7565.78125 best / 0 status /      0 pgpe:  14%|█▍        | 00:02 , 0.36it/s"
     ]
    },
    {
     "name": "stdout",
     "output_type": "stream",
     "text": [
      "\u001b[31m[FAIL] Compiler encountered the following error(s) in the training model:\n",
      "    Casting occurred that could result in loss of precision.\u001b[0m\n"
     ]
    },
    {
     "name": "stderr",
     "output_type": "stream",
     "text": [
      "   2067 it /     -590.05505 train /    -1115.23438 test /     -707.01562 best / 5 status /      0 pgpe: 100%|██████████| 00:19 , 103.38it/s\n"
     ]
    },
    {
     "name": "stdout",
     "output_type": "stream",
     "text": [
      "\n"
     ]
    }
   ],
   "source": [
    "config = \"\"\"\n",
    "[Model]\n",
    "comparison_kwargs={'weight': 100}\n",
    "rounding_kwargs={'weight': 100}\n",
    "control_kwargs={'weight': 100}\n",
    "[Optimizer]\n",
    "method='JaxStraightLinePlan'\n",
    "optimizer_kwargs={'learning_rate': 0.1}\n",
    "pgpe=None\n",
    "[Training]\n",
    "key=42\n",
    "\"\"\"\n",
    "planner_args, _, train_args = load_config_from_string(config)\n",
    "planner = JaxBackpropPlanner(rddl=env.model, **planner_args)\n",
    "agent = JaxOfflineController(planner, print_summary=False, train_seconds=20, **train_args)\n",
    "slp_returns = [agent.evaluate(env, episodes=1)['mean'] for _ in range(100)]"
   ]
  },
  {
   "cell_type": "markdown",
   "id": "771e9d89",
   "metadata": {},
   "source": [
    "Let's now generate the policy network. Note the slight difference in the config file arguments:"
   ]
  },
  {
   "cell_type": "code",
   "execution_count": 5,
   "id": "a01fe3b3",
   "metadata": {},
   "outputs": [
    {
     "name": "stdout",
     "output_type": "stream",
     "text": [
      "\u001b[32m[INFO] JAX gradient compiler will cast p-vars {'out-of-fuel', \"out-of-fuel'\", 'NEIGHBOR', \"burning'\", 'cut-out', 'burning', 'put-out', 'TARGET'} to float.\u001b[0m\n",
      "\u001b[32m[INFO] JAX gradient compiler will cast CPFs {\"out-of-fuel'\", \"burning'\"} to float.\u001b[0m\n",
      "\u001b[32m[INFO] Bounds of action-fluent <put-out> set to (None, None).\u001b[0m\n",
      "\u001b[32m[INFO] Bounds of action-fluent <cut-out> set to (None, None).\u001b[0m\n",
      "\u001b[33m[WARN] policy_hyperparams is not set, setting 1.0 for all action-fluents which could be suboptimal.\u001b[0m\n"
     ]
    },
    {
     "name": "stderr",
     "output_type": "stream",
     "text": [
      "      0 it /    -3994.27271 train /    -7530.46875 test /    -7530.46875 best / 0 status /      0 pgpe:  17%|█▋        | 00:02 , 0.29it/s"
     ]
    },
    {
     "name": "stdout",
     "output_type": "stream",
     "text": [
      "\u001b[31m[FAIL] Compiler encountered the following error(s) in the training model:\n",
      "    Casting occurred that could result in loss of precision.\u001b[0m\n"
     ]
    },
    {
     "name": "stderr",
     "output_type": "stream",
     "text": [
      "    932 it /     -423.17322 train /     -544.82812 test /     -229.07812 best / 5 status /      0 pgpe: 100%|██████████| 00:19 , 46.63it/s\n"
     ]
    },
    {
     "name": "stdout",
     "output_type": "stream",
     "text": [
      "\n"
     ]
    }
   ],
   "source": [
    "config = \"\"\"\n",
    "[Model]\n",
    "comparison_kwargs={'weight': 100}\n",
    "rounding_kwargs={'weight': 100}\n",
    "control_kwargs={'weight': 100}\n",
    "[Optimizer]\n",
    "method='JaxDeepReactivePolicy'\n",
    "method_kwargs={'topology': [128, 64]}\n",
    "optimizer_kwargs={'learning_rate': 0.001}\n",
    "pgpe=None\n",
    "[Training]\n",
    "key=42\n",
    "\"\"\"\n",
    "planner_args, _, train_args = load_config_from_string(config)\n",
    "planner = JaxBackpropPlanner(rddl=env.model, **planner_args)\n",
    "agent = JaxOfflineController(planner, print_summary=False, train_seconds=20, **train_args)\n",
    "drp_returns = [agent.evaluate(env, episodes=1)['mean'] for _ in range(100)]"
   ]
  },
  {
   "cell_type": "markdown",
   "id": "182f7f67",
   "metadata": {},
   "source": [
    "Finally, let's plot two overlapping histograms comparing the distribution of returns for the two plans:"
   ]
  },
  {
   "cell_type": "code",
   "execution_count": 6,
   "id": "85dee5da",
   "metadata": {},
   "outputs": [
    {
     "data": {
      "image/png": "[encoded data removed]",
      "text/plain": [
       "<Figure size 640x480 with 1 Axes>"
      ]
     },
     "metadata": {},
     "output_type": "display_data"
    }
   ],
   "source": [
    "%matplotlib inline\n",
    "ax = sns.violinplot(data=[slp_returns, drp_returns], orient='h')\n",
    "ax.set_yticklabels(['SLP', 'DRP'])\n",
    "plt.show()"
   ]
  },
  {
   "cell_type": "markdown",
   "id": "c46fc836",
   "metadata": {},
   "source": [
    "As you can see, the reactive policy network has a lower spread in return, and has a much higher probability of generating the optimal return of zero than the straight line planner."
   ]
  },
  {
   "cell_type": "code",
   "execution_count": null,
   "id": "01e59212",
   "metadata": {},
   "outputs": [],
   "source": []
  }
 ],
 "metadata": {
  "kernelspec": {
   "display_name": "Python 3 (ipykernel)",
   "language": "python",
   "name": "python3"
  },
  "language_info": {
   "codemirror_mode": {
    "name": "ipython",
    "version": 3
   },
   "file_extension": ".py",
   "mimetype": "text/x-python",
   "name": "python",
   "nbconvert_exporter": "python",
   "pygments_lexer": "ipython3",
   "version": "3.12.7"
  },
  "widgets": {
   "application/vnd.jupyter.widget-state+json": {
    "state": {},
    "version_major": 2,
    "version_minor": 0
   }
  }
 },
 "nbformat": 4,
 "nbformat_minor": 5
}
