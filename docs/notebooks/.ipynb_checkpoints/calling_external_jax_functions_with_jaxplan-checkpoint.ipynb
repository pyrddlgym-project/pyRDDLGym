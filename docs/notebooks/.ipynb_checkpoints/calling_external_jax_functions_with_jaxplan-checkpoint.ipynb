{
 "cells": [
  {
   "cell_type": "markdown",
   "id": "c3cbf9f1",
   "metadata": {},
   "source": [
    "# Calling External JAX Functions in JaxPlan."
   ]
  },
  {
   "cell_type": "markdown",
   "id": "ab93713a",
   "metadata": {},
   "source": [
    "This preliminary notebook discusses how to call external jax compiled function calls from within RDDL domain description files."
   ]
  },
  {
   "cell_type": "code",
   "execution_count": 1,
   "id": "23dcd5e2",
   "metadata": {},
   "outputs": [
    {
     "name": "stdout",
     "output_type": "stream",
     "text": [
      "Note: you may need to restart the kernel to use updated packages.\n",
      "Note: you may need to restart the kernel to use updated packages.\n"
     ]
    }
   ],
   "source": [
    "%pip install --quiet --upgrade pip\n",
    "%pip install --quiet pyRDDLGym rddlrepository pyRDDLGym-jax"
   ]
  },
  {
   "cell_type": "markdown",
   "id": "97b8975c",
   "metadata": {},
   "source": [
    "Import the required packages:"
   ]
  },
  {
   "cell_type": "code",
   "execution_count": 2,
   "id": "e72c2081",
   "metadata": {},
   "outputs": [],
   "source": [
    "import warnings\n",
    "warnings.filterwarnings(\"ignore\", category=UserWarning)\n",
    "import jax\n",
    "import haiku as hk\n",
    "\n",
    "import pyRDDLGym\n",
    "from pyRDDLGym.core.policy import RandomAgent\n",
    "from pyRDDLGym_jax.core.simulator import JaxRDDLSimulator\n",
    "from rddlrepository.core.manager import RDDLRepoManager"
   ]
  },
  {
   "cell_type": "markdown",
   "id": "ae97bd20",
   "metadata": {},
   "source": [
    "Let us now define the RDDL domain and instance description files containing the code with a function call. We will define a 1D convolution layer with weights ``W`` and biases ``b`` to process the state variable: "
   ]
  },
  {
   "cell_type": "code",
   "execution_count": 3,
   "id": "4d7c53c2",
   "metadata": {},
   "outputs": [
    {
     "name": "stdout",
     "output_type": "stream",
     "text": [
      "Domain <ExternalFuncDomainCNN> was successfully registered in rddlrepository with context <standalone>.\n",
      "Instance <1> was successfully registered in rddlrepository for domain <ExternalFuncDomainCNN_standalone>.\n"
     ]
    },
    {
     "data": {
      "text/plain": [
       "<rddlrepository.core.manager.RDDLRepoManager at 0x2e760bcf920>"
      ]
     },
     "execution_count": 3,
     "metadata": {},
     "output_type": "execute_result"
    }
   ],
   "source": [
    "domain_text = \"\"\"\n",
    "domain my_domain {\n",
    "\n",
    "    types {\n",
    "        obj : object;\n",
    "        kernel : object;\n",
    "    };\n",
    "\n",
    "    pvariables {\n",
    "        state(obj) : { state-fluent, real, default = 0.0 };\n",
    "        action(obj) : { action-fluent, real, default = 0.0 };\n",
    "\n",
    "        W(kernel, obj, obj) : { non-fluent, real, default = 0.2 };\n",
    "        b(obj) : { non-fluent, real, default = 0.0 };\n",
    "    };\n",
    "    \n",
    "    cpfs {\n",
    "        state'(?o) = $CNNFunction[?o](state(_), W(_, _, _), b(_));\n",
    "    };\n",
    "    \n",
    "    reward = sum_{?o : obj} pow[state'(?o) + action(?o) - 4, 2];\n",
    "    \n",
    "    action-preconditions {\n",
    "        forall_{?o : obj} [action(?o) >= -10 ^ action(?o) <= 10];\n",
    "    };\n",
    "}\n",
    "\"\"\"\n",
    "\n",
    "instance_text = \"\"\"\n",
    "non-fluents nf_simple {\n",
    "    domain = my_domain;\n",
    "    objects {\n",
    "        obj : { o1, o2, o3, o4 };\n",
    "        kernel : { k1, k2, k3 };\n",
    "    };\n",
    "}\n",
    "\n",
    "instance simple_inst {\n",
    "    domain = my_domain;\n",
    "    non-fluents = nf_simple;\n",
    "\n",
    "    init-state {\n",
    "        state(o1) = 1.0;\n",
    "        state(o2) = 2.0;\n",
    "        state(o3) = 3.0;\n",
    "        state(o4) = 4.0;\n",
    "    };\n",
    "\n",
    "    max-nondef-actions = pos-inf;\n",
    "    horizon = 5;\n",
    "    discount = 1.0;\n",
    "}\n",
    "\"\"\"\n",
    "\n",
    "# register the domain and instance with rddlrepository\n",
    "manager = RDDLRepoManager(rebuild=True)\n",
    "manager.register_domain(\"ExternalFuncDomainCNN\", \"standalone\", domain_text, desc=\"domain with CNN\", viz=None)\n",
    "problem_info = manager.get_problem(\"ExternalFuncDomainCNN_standalone\")\n",
    "problem_info.register_instance(\"1\", instance_text)\n",
    "RDDLRepoManager(rebuild=True)"
   ]
  },
  {
   "cell_type": "markdown",
   "id": "ce7259f9",
   "metadata": {},
   "source": [
    "The line of the code `state'(?o) = $CNNFunction[?o](state(_), ...);` calls an external JAX compiled function that applies a 1D convolutional neural network to the current state."
   ]
  },
  {
   "cell_type": "markdown",
   "id": "79dcc25e",
   "metadata": {},
   "source": [
    "Next, we must define the external function, which in this case defines the CNN in jax and haiku; note the function must be JIT compilable in order to use JaxPlan:"
   ]
  },
  {
   "cell_type": "code",
   "execution_count": 4,
   "id": "1a4757fe",
   "metadata": {},
   "outputs": [],
   "source": [
    "class CNN(hk.Module):\n",
    "    def __init__(self, name=None):\n",
    "        super().__init__(name=name)\n",
    "        self.conv1d_layer = hk.Conv1D(\n",
    "            output_channels=4,\n",
    "            kernel_shape=3,\n",
    "            padding=\"SAME\",\n",
    "            name=\"conv\"\n",
    "        )\n",
    "    def __call__(self, x):\n",
    "        return self.conv1d_layer(x)\n",
    "  \n",
    "f = hk.transform(lambda x: CNN()(x))\n",
    "\n",
    "@jax.jit\n",
    "def cnn_function(state_vec, W, b):\n",
    "    x = state_vec.reshape((1, -1))\n",
    "    params = {'cnn/~/conv': {'w': W, 'b': b}}\n",
    "    key = jax.random.PRNGKey(42)    # could pass the key as an argument to this function\n",
    "    return f.apply(params, key, x).reshape((-1,))"
   ]
  },
  {
   "cell_type": "markdown",
   "id": "16d5996c",
   "metadata": {},
   "source": [
    "Finally, we need to instruct the JAX compiler to use the above function when compiling and executing the domain and instance; it will be included automatically as part of the computation graph during compilation:"
   ]
  },
  {
   "cell_type": "code",
   "execution_count": 5,
   "id": "1dfc5a1f",
   "metadata": {},
   "outputs": [],
   "source": [
    "env = pyRDDLGym.make(\"ExternalFuncDomainCNN_standalone\", \"1\", \n",
    "                     backend=JaxRDDLSimulator,\n",
    "                     backend_kwargs={'python_functions': {'CNNFunction': cnn_function}})"
   ]
  },
  {
   "cell_type": "markdown",
   "id": "41f2a84b",
   "metadata": {},
   "source": [
    "Let's execute the environment with a random policy:"
   ]
  },
  {
   "cell_type": "code",
   "execution_count": 6,
   "id": "57267d29",
   "metadata": {},
   "outputs": [
    {
     "name": "stdout",
     "output_type": "stream",
     "text": [
      "initial state = \n",
      "     state___o1 = 1.0  state___o2 = 2.0  state___o3 = 3.0  state___o4 = 4.0 \n",
      "------------------------------------------------------------------------------------------------------------------------------------------------\n",
      "step   = 0\n",
      "action = \n",
      "     action___o1 = -3.123196840286255  action___o2 = 9.072826385498047   action___o3 = -2.21956729888916   action___o4 = 9.075740814208984  \n",
      "    \n",
      "state  = \n",
      "     state___o1 = 2.0  state___o2 = 2.0  state___o3 = 2.0  state___o4 = 2.0 \n",
      "reward = 144.1428680419922\n",
      "done   = False\n",
      "------------------------------------------------------------------------------------------------------------------------------------------------\n",
      "step   = 1\n",
      "action = \n",
      "     action___o1 = -8.618789672851562  action___o4 = 5.821589469909668   action___o2 = 2.3692588806152344  action___o3 = 9.883711814880371  \n",
      "    \n",
      "state  = \n",
      "     state___o1 = 1.6  state___o2 = 1.6  state___o3 = 1.6  state___o4 = 1.6 \n",
      "reward = 189.1278839111328\n",
      "done   = False\n",
      "------------------------------------------------------------------------------------------------------------------------------------------------\n",
      "step   = 2\n",
      "action = \n",
      "     action___o1 = -7.524843215942383   action___o2 = -3.888314962387085   action___o3 = 1.1962388753890991   action___o4 = -2.7810776233673096 \n",
      "    \n",
      "state  = \n",
      "     state___o1 = 1.2800001  state___o2 = 1.2800001  state___o3 = 1.2800001  state___o4 = 1.2800001 \n",
      "reward = 181.2103271484375\n",
      "done   = False\n",
      "------------------------------------------------------------------------------------------------------------------------------------------------\n",
      "step   = 3\n",
      "action = \n",
      "     action___o2 = 7.229691982269287   action___o3 = 6.162588119506836   action___o4 = 2.8530266284942627  action___o1 = -7.420675277709961 \n",
      "    \n",
      "state  = \n",
      "     state___o1 = 1.024  state___o2 = 1.024  state___o3 = 1.024  state___o4 = 1.024 \n",
      "reward = 136.35421752929688\n",
      "done   = False\n",
      "------------------------------------------------------------------------------------------------------------------------------------------------\n",
      "step   = 4\n",
      "action = \n",
      "     action___o1 = -3.86700701713562    action___o2 = 2.090040922164917    action___o3 = 9.8594970703125      action___o4 = -1.1245150566101074 \n",
      "    \n",
      "state  = \n",
      "     state___o1 = 0.81920004  state___o2 = 0.81920004  state___o3 = 0.81920004  state___o4 = 0.81920004 \n",
      "reward = 114.0020751953125\n",
      "done   = True\n",
      "\n",
      "episode 1 ended with return 764.8373718261719\n",
      "================================================================================================================================================\n"
     ]
    },
    {
     "data": {
      "text/plain": [
       "{'mean': np.float64(764.8373718261719),\n",
       " 'median': np.float64(764.8373718261719),\n",
       " 'min': np.float64(764.8373718261719),\n",
       " 'max': np.float64(764.8373718261719),\n",
       " 'std': np.float64(0.0)}"
      ]
     },
     "execution_count": 6,
     "metadata": {},
     "output_type": "execute_result"
    }
   ],
   "source": [
    "agent = RandomAgent(action_space=env.action_space, num_actions=env.max_allowed_actions)\n",
    "agent.evaluate(env, episodes=1, verbose=True)"
   ]
  }
 ],
 "metadata": {
  "kernelspec": {
   "display_name": "Python 3 (ipykernel)",
   "language": "python",
   "name": "python3"
  },
  "language_info": {
   "codemirror_mode": {
    "name": "ipython",
    "version": 3
   },
   "file_extension": ".py",
   "mimetype": "text/x-python",
   "name": "python",
   "nbconvert_exporter": "python",
   "pygments_lexer": "ipython3",
   "version": "3.12.7"
  }
 },
 "nbformat": 4,
 "nbformat_minor": 5
}
