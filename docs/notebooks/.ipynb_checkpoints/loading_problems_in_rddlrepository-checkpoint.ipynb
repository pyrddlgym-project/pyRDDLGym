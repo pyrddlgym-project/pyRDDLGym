{
 "cells": [
  {
   "cell_type": "markdown",
   "id": "991f0c9c",
   "metadata": {},
   "source": [
    "# Loading a problem from the rddlrepository."
   ]
  },
  {
   "cell_type": "markdown",
   "id": "618c9f2c",
   "metadata": {},
   "source": [
    "This basic example illustrates how to load a problem from the rddlrepository."
   ]
  },
  {
   "cell_type": "markdown",
   "id": "1cca91f1",
   "metadata": {},
   "source": [
    "First install and import the required packages:"
   ]
  },
  {
   "cell_type": "code",
   "execution_count": 1,
   "id": "0f7da031",
   "metadata": {},
   "outputs": [
    {
     "name": "stdout",
     "output_type": "stream",
     "text": [
      "Note: you may need to restart the kernel to use updated packages.\n",
      "Note: you may need to restart the kernel to use updated packages.\n"
     ]
    }
   ],
   "source": [
    "%pip install --quiet --upgrade pip\n",
    "%pip install --quiet rddlrepository"
   ]
  },
  {
   "cell_type": "markdown",
   "id": "e563cea8",
   "metadata": {},
   "source": [
    "Import the required packages:"
   ]
  },
  {
   "cell_type": "code",
   "execution_count": 2,
   "id": "2fc488e8",
   "metadata": {},
   "outputs": [],
   "source": [
    "from rddlrepository.core.manager import RDDLRepoManager"
   ]
  },
  {
   "cell_type": "markdown",
   "id": "1f766a1a",
   "metadata": {},
   "source": [
    "## Listing available contexts, domains and instances."
   ]
  },
  {
   "cell_type": "markdown",
   "id": "bcb405db",
   "metadata": {},
   "source": [
    "Problems in rddlrepository are grouped into contexts:"
   ]
  },
  {
   "cell_type": "code",
   "execution_count": 3,
   "id": "d613e2dc",
   "metadata": {},
   "outputs": [
    {
     "data": {
      "text/plain": [
       "['arcade',\n",
       " 'ippc2011',\n",
       " 'ippc2014',\n",
       " 'ippc2018',\n",
       " 'ippc2023',\n",
       " 'gym',\n",
       " 'mycontext',\n",
       " 'or',\n",
       " 'rddlsim',\n",
       " 'standalone']"
      ]
     },
     "execution_count": 3,
     "metadata": {},
     "output_type": "execute_result"
    }
   ],
   "source": [
    "manager = RDDLRepoManager(rebuild=True)\n",
    "manager.list_contexts()"
   ]
  },
  {
   "cell_type": "markdown",
   "id": "4bc73296",
   "metadata": {},
   "source": [
    "As you can infer from the names, contexts of the form ``ippcxxxx`` refer to domains in prior years' international planning competitions, ``gym`` refers to RDDL implementations of domains from the original OpenAI gym, and so on."
   ]
  },
  {
   "cell_type": "markdown",
   "id": "0e103f28",
   "metadata": {},
   "source": [
    "To list all the domains in a given context, e.g. ``ippc2014``:"
   ]
  },
  {
   "cell_type": "code",
   "execution_count": 4,
   "id": "ce392c09",
   "metadata": {},
   "outputs": [
    {
     "data": {
      "text/plain": [
       "['AcademicAdvising_MDP_ippc2014',\n",
       " 'AcademicAdvising_POMDP_ippc2014',\n",
       " 'CrossingTraffic_MDP_ippc2014',\n",
       " 'CrossingTraffic_POMDP_ippc2014',\n",
       " 'Elevators_MDP_ippc2014',\n",
       " 'Elevators_POMDP_ippc2014',\n",
       " 'SkillTeaching_MDP_ippc2014',\n",
       " 'SkillTeaching_POMDP_ippc2014',\n",
       " 'Tamarisk_MDP_ippc2014',\n",
       " 'Tamarisk_POMDP_ippc2014',\n",
       " 'Traffic_MDP_ippc2014',\n",
       " 'Traffic_POMDP_ippc2014',\n",
       " 'TriangleTireworld_MDP_ippc2014',\n",
       " 'TriangleTireworld_POMDP_ippc2014',\n",
       " 'Wildfire_MDP_ippc2014',\n",
       " 'Wildfire_POMDP_ippc2014']"
      ]
     },
     "execution_count": 4,
     "metadata": {},
     "output_type": "execute_result"
    }
   ],
   "source": [
    "manager.list_problems_by_context('ippc2014')"
   ]
  },
  {
   "cell_type": "markdown",
   "id": "f7316061",
   "metadata": {},
   "source": [
    "To list all the instances in a given domain, e.g. ``Wildfire_MDP_ippc2014``:"
   ]
  },
  {
   "cell_type": "code",
   "execution_count": 5,
   "id": "50d0cf64",
   "metadata": {},
   "outputs": [
    {
     "data": {
      "text/plain": [
       "['1', '2', '3', '4', '5', '6', '7', '8', '9', '10']"
      ]
     },
     "execution_count": 5,
     "metadata": {},
     "output_type": "execute_result"
    }
   ],
   "source": [
    "info = manager.get_problem('Wildfire_MDP_ippc2014')\n",
    "info.list_instances()"
   ]
  },
  {
   "cell_type": "markdown",
   "id": "47e3a0c9",
   "metadata": {},
   "source": [
    "As you can see, there are 10 instances available for the Wildfire domain, ranging from 1 to 10."
   ]
  },
  {
   "cell_type": "markdown",
   "id": "d4338350",
   "metadata": {},
   "source": [
    "## Loading domains and instances."
   ]
  },
  {
   "cell_type": "markdown",
   "id": "08de1df5",
   "metadata": {},
   "source": [
    "Now that you understand how to extract information about domains and instances, let's load the actual domain and instance RDDL specification, as well as the default visualizer object assigned to the domain:"
   ]
  },
  {
   "cell_type": "code",
   "execution_count": 6,
   "id": "80442fe0",
   "metadata": {},
   "outputs": [
    {
     "name": "stdout",
     "output_type": "stream",
     "text": [
      "C:\\Python\\envs\\rddl\\Lib\\site-packages\\rddlrepository\\archive\\competitions\\IPPC2014\\Wildfire\\MDP\\domain.rddl\n",
      "C:\\Python\\envs\\rddl\\Lib\\site-packages\\rddlrepository\\archive\\competitions\\IPPC2014\\Wildfire\\MDP\\instance1.rddl\n",
      "<class 'rddlrepository.archive.competitions.IPPC2014.Wildfire.MDP.WildfireViz.WildfireVisualizer'>\n"
     ]
    }
   ],
   "source": [
    "print(info.get_domain())\n",
    "print(info.get_instance('1'))\n",
    "print(info.get_visualizer())"
   ]
  },
  {
   "cell_type": "markdown",
   "id": "bcd116a3",
   "metadata": {},
   "source": [
    "This provides the paths to the domain and instance RDDL files on the system, as well as the ``Visualizer`` instance that can be passed to the pyRDDLGym environment."
   ]
  },
  {
   "cell_type": "markdown",
   "id": "fbca0ebd",
   "metadata": {},
   "source": [
    "Finally, let's inspect the content of the domain specification:"
   ]
  },
  {
   "cell_type": "code",
   "execution_count": 7,
   "id": "b6a74bd2",
   "metadata": {},
   "outputs": [
    {
     "name": "stdout",
     "output_type": "stream",
     "text": [
      "///////////////////////////////////////////////////////////////////////////////\n",
      "//\n",
      "// A boolean version of the wildfire fighting domain.\n",
      "//\n",
      "// Author: Zhenyu Yu (fry3721@gmail.com)\n",
      "//\n",
      "// General reference:\n",
      "// \n",
      "//   Karafyllidis, I., & Thanailakis, A. (1997). \n",
      "//   A model for predicting forest fire spreading using gridular automata. \n",
      "//   Ecological Modelling, 99(1), 87-97.\n",
      "//   http://www.dpi.inpe.br/gilberto/cursos/st-society-2013/Kara1997.pdf\n",
      "//\n",
      "// In a general wildfire scenario, its spread is mostly determined by \n",
      "// the weather (i.e. wind), terrain slope, and fuel type (i.e. grass, wood).\n",
      "// In this scenario, a map is represented with grids, size of n*n.\n",
      "// Each grid has some attributes, including fuel type, terrain elevation.\n",
      "// Furthermore, the fuel type and terrain elevation will affect the fire \n",
      "// spreading speed.  Some fuel type is more easily on fire than other, \n",
      "// and higher grids are always easier to catch fire.  Cell features and\n",
      "// effects of wind are not modeled in this simplified version.\n",
      "//\n",
      "// In this version, whether a cell would be on fire is determined by its \n",
      "// neighbor grids, and the fire spreading law is simplified with this function\n",
      "//\n",
      "//   p(burning(xi, yj)=true) = 1 / (1 + exp(4.5 - k))\n",
      "//\n",
      "// where k is the number of neighbors on fire.\n",
      "//\n",
      "// The decision task to a emergency manager is to control the fire \n",
      "// and keep it away from important targets.\n",
      "//\n",
      "// Modified for competition and translation purposes by Scott Sanner.\n",
      "//  \n",
      "///////////////////////////////////////////////////////////////////////////////\n",
      "\n",
      "domain wildfire_mdp {\n",
      "\n",
      "\ttypes {\n",
      "\t\tx_pos : object;\n",
      "\t\ty_pos : object;\n",
      "\t};\n",
      "\t\n",
      "\tpvariables {\n",
      "\t\n",
      "\t\t// Action costs and penalties\n",
      "\t\tCOST_CUTOUT            : {non-fluent, real, default =   -5 }; // Cost to cut-out fuel from a cell\n",
      "\t\tCOST_PUTOUT            : {non-fluent, real, default =  -10 }; // Cost to put-out a fire from a cell\n",
      "\t\tPENALTY_TARGET_BURN    : {non-fluent, real, default = -100 }; // Penalty for each target cell that is burning  \n",
      "\t\tPENALTY_NONTARGET_BURN : {non-fluent, real, default =   -5 }; // Penalty for each non-target cell that is burning\n",
      "\t\n",
      "\t\t// Topology of the cells (can be any neighborhood topology, not necessarily rectangular)\n",
      "\t\tNEIGHBOR(x_pos, y_pos, x_pos, y_pos) : { non-fluent, bool, default = false };\n",
      "\t\t\n",
      "\t\t// High value cells that should be protected from fire \n",
      "\t\tTARGET(x_pos, y_pos) : {non-fluent, bool, default = false }; \n",
      "\t\t\n",
      "\t\t// State fluents\n",
      "\t\tburning(x_pos, y_pos)     : { state-fluent, bool, default = false }; // cell currently on fire\n",
      "\t\tout-of-fuel(x_pos, y_pos) : { state-fluent, bool, default = false }; // cell does not have fuel to burn (i.e., cut-out or already burned)\n",
      "\t\t\n",
      "\t\t// Action fluents\n",
      "\t\tput-out(x_pos, y_pos) : { action-fluent, bool, default = false }; // actions to put-out out the fire\n",
      "\t\tcut-out(x_pos, y_pos) : { action-fluent, bool, default = false }; // cut-out out the fuel\n",
      "\t\t\t\n",
      "\t};\n",
      "\n",
      "\tcpfs {\n",
      "\t\t\n",
      "\t\tburning'(?x, ?y) = \n",
      "\t\t\tif ( put-out(?x, ?y) ) // Intervention to put out fire?\n",
      "\t\t\t\tthen false\n",
      "            // Modification: targets can only start to burn if at least one neighbor is on fire\n",
      "            else if (~out-of-fuel(?x, ?y) ^ ~burning(?x, ?y)) // Ignition of a new fire? Depends on neighbors.\n",
      "              then [if (TARGET(?x, ?y) ^ ~(exists_{?x2: x_pos, ?y2: y_pos} (NEIGHBOR(?x, ?y, ?x2, ?y2) ^ burning(?x2, ?y2))))\n",
      "                    then false\n",
      "                    else Bernoulli( 1.0 / (1.0 + exp[4.5 - (sum_{?x2: x_pos, ?y2: y_pos} (NEIGHBOR(?x, ?y, ?x2, ?y2) ^ burning(?x2, ?y2)))]) ) ]\n",
      "\t\t\telse \n",
      "\t\t\t\tburning(?x, ?y); // State persists\n",
      "\t\t\n",
      "\t\t// Modification: only allow non-target cells to be cut-out (cannot remove fuel from targets, e.g., housing)\n",
      "\t\tout-of-fuel'(?x, ?y) = out-of-fuel(?x, ?y) | burning(?x,?y) | (~TARGET(?x, ?y) ^ cut-out(?x, ?y));\n",
      "\t\t\t\t\t\t\n",
      "\t};\n",
      "    \t\n",
      "\treward = \n",
      " \t    [sum_{?x: x_pos, ?y: y_pos} [ COST_CUTOUT*cut-out(?x, ?y) ]]\n",
      " \t  + [sum_{?x: x_pos, ?y: y_pos} [ COST_PUTOUT*put-out(?x, ?y) ]]\n",
      " \t    // Modification: if a target is out-of-fuel, it was burnt so still penalize (since it could not have been cut-out)\n",
      " \t  + [sum_{?x: x_pos, ?y: y_pos} [ PENALTY_TARGET_BURN*[ (burning(?x, ?y) | out-of-fuel(?x, ?y)) ^ TARGET(?x, ?y) ]]]\n",
      " \t  + [sum_{?x: x_pos, ?y: y_pos} [ PENALTY_NONTARGET_BURN*[ burning(?x, ?y) ^ ~TARGET(?x, ?y) ]]];\n",
      "\n",
      "}\n",
      "\n",
      "\n",
      "\n",
      "\n",
      "\n"
     ]
    }
   ],
   "source": [
    "with open(info.get_domain()) as file:\n",
    "    print(file.read())"
   ]
  }
 ],
 "metadata": {
  "kernelspec": {
   "display_name": "Python 3 (ipykernel)",
   "language": "python",
   "name": "python3"
  },
  "language_info": {
   "codemirror_mode": {
    "name": "ipython",
    "version": 3
   },
   "file_extension": ".py",
   "mimetype": "text/x-python",
   "name": "python",
   "nbconvert_exporter": "python",
   "pygments_lexer": "ipython3",
   "version": "3.12.7"
  },
  "widgets": {
   "application/vnd.jupyter.widget-state+json": {
    "state": {},
    "version_major": 2,
    "version_minor": 0
   }
  }
 },
 "nbformat": 4,
 "nbformat_minor": 5
}
