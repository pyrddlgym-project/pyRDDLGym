{
 "cells": [
  {
   "cell_type": "markdown",
   "id": "b7536351",
   "metadata": {},
   "source": [
    "# Adding domains to the rddlrepository."
   ]
  },
  {
   "cell_type": "markdown",
   "id": "d0bd1322",
   "metadata": {},
   "source": [
    "This follow-up example illustrates how to add a new context, domain and instance to the rddlrepository for later use."
   ]
  },
  {
   "cell_type": "markdown",
   "id": "30e7bfac",
   "metadata": {},
   "source": [
    "First install and import the required packages:"
   ]
  },
  {
   "cell_type": "code",
   "execution_count": 1,
   "id": "1237386d",
   "metadata": {},
   "outputs": [
    {
     "name": "stdout",
     "output_type": "stream",
     "text": [
      "Note: you may need to restart the kernel to use updated packages.\n",
      "Note: you may need to restart the kernel to use updated packages.\n"
     ]
    }
   ],
   "source": [
    "%pip install --quiet --upgrade pip\n",
    "%pip install --quiet pyRDDLGym rddlrepository"
   ]
  },
  {
   "cell_type": "markdown",
   "id": "f5cb0c7f",
   "metadata": {},
   "source": [
    "Import the required packages:"
   ]
  },
  {
   "cell_type": "code",
   "execution_count": 2,
   "id": "a751f140",
   "metadata": {},
   "outputs": [],
   "source": [
    "import pyRDDLGym\n",
    "from pyRDDLGym.core.policy import RandomAgent\n",
    "from rddlrepository.core.manager import RDDLRepoManager"
   ]
  },
  {
   "cell_type": "markdown",
   "id": "84ed9ec6",
   "metadata": {},
   "source": [
    "Let's begin by adding a new context to the rddlrepository. We have to make sure it does not already exist:"
   ]
  },
  {
   "cell_type": "code",
   "execution_count": 3,
   "id": "accae606",
   "metadata": {},
   "outputs": [
    {
     "name": "stdout",
     "output_type": "stream",
     "text": [
      "Context <mycontext> was successfully registered in rddlrepository.\n"
     ]
    }
   ],
   "source": [
    "manager = RDDLRepoManager(rebuild=True)\n",
    "manager.register_context(\"mycontext\")"
   ]
  },
  {
   "cell_type": "markdown",
   "id": "9456d046",
   "metadata": {},
   "source": [
    "Next, we will create our RDDL domain specification. For illustration we will consider a simple example:"
   ]
  },
  {
   "cell_type": "code",
   "execution_count": 4,
   "id": "d974e98f",
   "metadata": {},
   "outputs": [],
   "source": [
    "domain_text = \"\"\"\n",
    "domain simple_domain {\n",
    "\n",
    "    pvariables {\n",
    "        state : { state-fluent, int, default = 0 };\n",
    "        action : { action-fluent, int, default = 0 };\n",
    "    };\n",
    "    \n",
    "    cpfs {\n",
    "        state' = state + action;\n",
    "    };\n",
    "    \n",
    "    reward = pow[state' - 4, 2];\n",
    "    \n",
    "    action-preconditions {\n",
    "        action >= -10 ^ action <= 10;\n",
    "    };\n",
    "}\n",
    "\"\"\""
   ]
  },
  {
   "cell_type": "markdown",
   "id": "3b759eaa",
   "metadata": {},
   "source": [
    "Let's register the domain in our newly-registered context, creating a description and assigning the default (graphical) visualizer:"
   ]
  },
  {
   "cell_type": "code",
   "execution_count": 5,
   "id": "0bf0a398",
   "metadata": {},
   "outputs": [
    {
     "name": "stdout",
     "output_type": "stream",
     "text": [
      "Domain <SimpleDomain> was successfully registered in rddlrepository with context <mycontext>.\n"
     ]
    }
   ],
   "source": [
    "manager.register_domain(\"SimpleDomain\", \"mycontext\", domain_text, desc=\"a very simple additive domain\", viz=None)"
   ]
  },
  {
   "cell_type": "markdown",
   "id": "1799f195",
   "metadata": {},
   "source": [
    "Finally let's create at least one instance file for this domain:"
   ]
  },
  {
   "cell_type": "code",
   "execution_count": 6,
   "id": "7d741566",
   "metadata": {},
   "outputs": [],
   "source": [
    "instance_text = \"\"\"\n",
    "non-fluents nf_simple {\n",
    "    domain = simple_domain;\n",
    "}\n",
    "\n",
    "instance simple_inst {\n",
    "    domain = simple_domain;\n",
    "    non-fluents = nf_simple;\n",
    "    max-nondef-actions = pos-inf;\n",
    "    horizon = 5;\n",
    "    discount = 1.0;\n",
    "}\n",
    "\"\"\""
   ]
  },
  {
   "cell_type": "markdown",
   "id": "6a41e038",
   "metadata": {},
   "source": [
    "We will register the new instance as number 1 for the newly-registered domain:"
   ]
  },
  {
   "cell_type": "code",
   "execution_count": 7,
   "id": "df76bd8b",
   "metadata": {},
   "outputs": [
    {
     "name": "stdout",
     "output_type": "stream",
     "text": [
      "Instance <1> was successfully registered in rddlrepository for domain <SimpleDomain_mycontext>.\n"
     ]
    }
   ],
   "source": [
    "problem_info = manager.get_problem(\"SimpleDomain_mycontext\")\n",
    "problem_info.register_instance(\"1\", instance_text)"
   ]
  },
  {
   "cell_type": "markdown",
   "id": "8c97494d",
   "metadata": {},
   "source": [
    "The moment of truth: let's check that everything works fine by loading the domain in pyRDDLGym:"
   ]
  },
  {
   "cell_type": "code",
   "execution_count": 8,
   "id": "6db77a4d",
   "metadata": {},
   "outputs": [
    {
     "name": "stdout",
     "output_type": "stream",
     "text": [
      "initial state = \n",
      "     state = 0 \n",
      "------------------------------------------------------------------------------------------------------------------------\n",
      "step   = 0\n",
      "action = \n",
      "     action = 5 \n",
      "state  = \n",
      "     state = 5 \n",
      "reward = 1.0\n",
      "done   = False\n",
      "------------------------------------------------------------------------------------------------------------------------\n",
      "step   = 1\n",
      "action = \n",
      "     action = 2 \n",
      "state  = \n",
      "     state = 7 \n",
      "reward = 9.0\n",
      "done   = False\n",
      "------------------------------------------------------------------------------------------------------------------------\n",
      "step   = 2\n",
      "action = \n",
      "     action = -9 \n",
      "state  = \n",
      "     state = -2 \n",
      "reward = 36.0\n",
      "done   = False\n",
      "------------------------------------------------------------------------------------------------------------------------\n",
      "step   = 3\n",
      "action = \n",
      "     action = -10 \n",
      "state  = \n",
      "     state = -12 \n",
      "reward = 256.0\n",
      "done   = False\n",
      "------------------------------------------------------------------------------------------------------------------------\n",
      "step   = 4\n",
      "action = \n",
      "     action = -8 \n",
      "state  = \n",
      "     state = -20 \n",
      "reward = 576.0\n",
      "done   = True\n",
      "\n",
      "episode 1 ended with return 878.0\n",
      "========================================================================================================================\n"
     ]
    },
    {
     "data": {
      "text/plain": [
       "{'mean': np.float64(878.0),\n",
       " 'median': np.float64(878.0),\n",
       " 'min': np.float64(878.0),\n",
       " 'max': np.float64(878.0),\n",
       " 'std': np.float64(0.0)}"
      ]
     },
     "execution_count": 8,
     "metadata": {},
     "output_type": "execute_result"
    }
   ],
   "source": [
    "RDDLRepoManager(rebuild=True)\n",
    "env = pyRDDLGym.make(\"SimpleDomain_mycontext\", \"1\")\n",
    "agent = RandomAgent(action_space=env.action_space, num_actions=env.max_allowed_actions)\n",
    "agent.evaluate(env, episodes=1, verbose=True)"
   ]
  }
 ],
 "metadata": {
  "kernelspec": {
   "display_name": "Python 3 (ipykernel)",
   "language": "python",
   "name": "python3"
  },
  "language_info": {
   "codemirror_mode": {
    "name": "ipython",
    "version": 3
   },
   "file_extension": ".py",
   "mimetype": "text/x-python",
   "name": "python",
   "nbconvert_exporter": "python",
   "pygments_lexer": "ipython3",
   "version": "3.12.7"
  },
  "widgets": {
   "application/vnd.jupyter.widget-state+json": {
    "state": {},
    "version_major": 2,
    "version_minor": 0
   }
  }
 },
 "nbformat": 4,
 "nbformat_minor": 5
}
