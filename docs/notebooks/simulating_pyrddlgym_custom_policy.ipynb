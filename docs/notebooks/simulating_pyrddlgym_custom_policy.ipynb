{
 "cells": [
  {
   "cell_type": "markdown",
   "id": "a7586761",
   "metadata": {},
   "source": [
    "# Simulating an environment in pyRDDLGym with a custom policy."
   ]
  },
  {
   "cell_type": "markdown",
   "id": "6a9a41a1",
   "metadata": {},
   "source": [
    "This follow-up example illustrates how to define a custom policy to interact with an environment."
   ]
  },
  {
   "cell_type": "markdown",
   "id": "a5c5d88d",
   "metadata": {},
   "source": [
    "First install and import the required packages:"
   ]
  },
  {
   "cell_type": "code",
   "execution_count": 1,
   "id": "e39ea1b3",
   "metadata": {},
   "outputs": [
    {
     "name": "stdout",
     "output_type": "stream",
     "text": [
      "Note: you may need to restart the kernel to use updated packages.\n"
     ]
    }
   ],
   "source": [
    "pip install --quiet --upgrade pip pyRDDLGym rddlrepository"
   ]
  },
  {
   "cell_type": "markdown",
   "id": "3212bb09",
   "metadata": {},
   "source": [
    "Import the required packages:"
   ]
  },
  {
   "cell_type": "code",
   "execution_count": 2,
   "id": "120a31d4",
   "metadata": {},
   "outputs": [],
   "source": [
    "import warnings\n",
    "warnings.filterwarnings('ignore')\n",
    "import sys\n",
    "import numpy as np\n",
    "\n",
    "import pyRDDLGym\n",
    "from pyRDDLGym.core.policy import RandomAgent, BaseAgent"
   ]
  },
  {
   "cell_type": "markdown",
   "id": "2942cdaf",
   "metadata": {},
   "source": [
    "We will attempt to first run the Elevators domain with the random policy:"
   ]
  },
  {
   "cell_type": "code",
   "execution_count": 3,
   "id": "17b94149",
   "metadata": {},
   "outputs": [
    {
     "name": "stderr",
     "output_type": "stream",
     "text": [
      "Precondition 0 is not satisfied for actions {'move-current-dir': array([False,  True]), 'open-door': array([False,  True]), 'close-door': array([False, False])}.\n",
      ">> ( forall_{?e: elevator} [ ( ( open-door(?e) + close-door(?e) ) + move-current-dir(?e) ) <= 1 ] )\n"
     ]
    }
   ],
   "source": [
    "env = pyRDDLGym.make('Elevators', '0', enforce_action_constraints=True)\n",
    "agent = RandomAgent(action_space=env.action_space, num_actions=env.max_allowed_actions)\n",
    "try:\n",
    "    return_stats = agent.evaluate(env, episodes=20)\n",
    "except Exception as e:\n",
    "    print(e, file=sys.stderr)"
   ]
  },
  {
   "cell_type": "markdown",
   "id": "ac7d081b",
   "metadata": {},
   "source": [
    "pyRDDLGym provides some support for parsing bounds on action constraints, but unfortunately it cannot parse arbitrarily complex non-box constraints. This means the built-in random policy will sample actions that do not satisfy the required constraints. In this case, the action-precondition requires that, for each elevator, at most one non-noop action can be chosen."
   ]
  },
  {
   "cell_type": "markdown",
   "id": "1d9fa2eb",
   "metadata": {},
   "source": [
    "To solve this, we will create a subclass of the BasePolicy that does respect the constraint on each elevator during sampling:"
   ]
  },
  {
   "cell_type": "code",
   "execution_count": 4,
   "id": "fae2e013",
   "metadata": {},
   "outputs": [],
   "source": [
    "class ElevatorsPolicy(BaseAgent):\n",
    "    \n",
    "    def __init__(self, elevators):\n",
    "        self.elevators = elevators\n",
    "        \n",
    "    def sample_action(self, state):\n",
    "        action = {}\n",
    "        for e in self.elevators:\n",
    "            random = np.random.uniform()\n",
    "            if random < 0.25:  # choose to move elevator\n",
    "                action[f'move-current-dir___{e}'] = True\n",
    "            elif random < 0.5:  # choose to open door\n",
    "                action[f'open-door___{e}'] = True\n",
    "            elif random < 0.75:  # choose to close door\n",
    "                action[f'close-door___{e}'] = True\n",
    "            else:  # choose to do nothing\n",
    "                pass\n",
    "        return action"
   ]
  },
  {
   "cell_type": "markdown",
   "id": "ebdb9091",
   "metadata": {},
   "source": [
    "Next we will create an instance of this policy by passing in the objects of type \"elevator\":"
   ]
  },
  {
   "cell_type": "code",
   "execution_count": 5,
   "id": "4ce3c946",
   "metadata": {},
   "outputs": [],
   "source": [
    "elevators = env.model.type_to_objects['elevator']\n",
    "agent = ElevatorsPolicy(elevators)"
   ]
  },
  {
   "cell_type": "markdown",
   "id": "79418e3c",
   "metadata": {},
   "source": [
    "We are now ready to simulate! Let's simulate one trial and check that the actions sampled respect the constraints in the RDDL:"
   ]
  },
  {
   "cell_type": "code",
   "execution_count": 6,
   "id": "e8bd9387",
   "metadata": {},
   "outputs": [
    {
     "name": "stdout",
     "output_type": "stream",
     "text": [
      "initial state = \n",
      "         num-person-waiting___f0 = 0          num-person-waiting___f1 = 0          num-person-waiting___f2 = 0     \n",
      "         num-person-waiting___f3 = 0          num-person-waiting___f4 = 0      num-person-in-elevator___e0 = 0     \n",
      "     num-person-in-elevator___e1 = 0             elevator-dir-up___e0 = True          elevator-dir-up___e1 = True  \n",
      "            elevator-closed___e0 = True          elevator-closed___e1 = True    elevator-at-floor___e0__f0 = True  \n",
      "      elevator-at-floor___e0__f1 = False   elevator-at-floor___e0__f2 = False   elevator-at-floor___e0__f3 = False \n",
      "      elevator-at-floor___e0__f4 = False   elevator-at-floor___e1__f0 = True    elevator-at-floor___e1__f1 = False \n",
      "      elevator-at-floor___e1__f2 = False   elevator-at-floor___e1__f3 = False   elevator-at-floor___e1__f4 = False \n",
      "    \n",
      "------------------------------------------------------------------------------------------------------------------------\n",
      "step   = 0\n",
      "action = \n",
      "     open-door___e0 = True  open-door___e1 = True \n",
      "state  = \n",
      "         num-person-waiting___f0 = 0          num-person-waiting___f1 = 1          num-person-waiting___f2 = 0     \n",
      "         num-person-waiting___f3 = 0          num-person-waiting___f4 = 1      num-person-in-elevator___e0 = 0     \n",
      "     num-person-in-elevator___e1 = 0             elevator-dir-up___e0 = True          elevator-dir-up___e1 = True  \n",
      "            elevator-closed___e0 = True          elevator-closed___e1 = True    elevator-at-floor___e0__f0 = True  \n",
      "      elevator-at-floor___e0__f1 = False   elevator-at-floor___e0__f2 = False   elevator-at-floor___e0__f3 = False \n",
      "      elevator-at-floor___e0__f4 = False   elevator-at-floor___e1__f0 = True    elevator-at-floor___e1__f1 = False \n",
      "      elevator-at-floor___e1__f2 = False   elevator-at-floor___e1__f3 = False   elevator-at-floor___e1__f4 = False \n",
      "    \n",
      "reward = 0.0\n",
      "done   = False\n",
      "------------------------------------------------------------------------------------------------------------------------\n",
      "step   = 1\n",
      "action = \n",
      "     close-door___e1 = True \n",
      "state  = \n",
      "         num-person-waiting___f0 = 0          num-person-waiting___f1 = 1          num-person-waiting___f2 = 0     \n",
      "         num-person-waiting___f3 = 1          num-person-waiting___f4 = 1      num-person-in-elevator___e0 = 0     \n",
      "     num-person-in-elevator___e1 = 0             elevator-dir-up___e0 = True          elevator-dir-up___e1 = True  \n",
      "            elevator-closed___e0 = True          elevator-closed___e1 = True    elevator-at-floor___e0__f0 = True  \n",
      "      elevator-at-floor___e0__f1 = False   elevator-at-floor___e0__f2 = False   elevator-at-floor___e0__f3 = False \n",
      "      elevator-at-floor___e0__f4 = False   elevator-at-floor___e1__f0 = True    elevator-at-floor___e1__f1 = False \n",
      "      elevator-at-floor___e1__f2 = False   elevator-at-floor___e1__f3 = False   elevator-at-floor___e1__f4 = False \n",
      "    \n",
      "reward = -6.0\n",
      "done   = False\n",
      "------------------------------------------------------------------------------------------------------------------------\n",
      "step   = 2\n",
      "action = \n",
      "     open-door___e0 = True  open-door___e1 = True \n",
      "state  = \n",
      "         num-person-waiting___f0 = 0          num-person-waiting___f1 = 1          num-person-waiting___f2 = 0     \n",
      "         num-person-waiting___f3 = 1          num-person-waiting___f4 = 1      num-person-in-elevator___e0 = 0     \n",
      "     num-person-in-elevator___e1 = 0             elevator-dir-up___e0 = True          elevator-dir-up___e1 = True  \n",
      "            elevator-closed___e0 = True          elevator-closed___e1 = True    elevator-at-floor___e0__f0 = True  \n",
      "      elevator-at-floor___e0__f1 = False   elevator-at-floor___e0__f2 = False   elevator-at-floor___e0__f3 = False \n",
      "      elevator-at-floor___e0__f4 = False   elevator-at-floor___e1__f0 = True    elevator-at-floor___e1__f1 = False \n",
      "      elevator-at-floor___e1__f2 = False   elevator-at-floor___e1__f3 = False   elevator-at-floor___e1__f4 = False \n",
      "    \n",
      "reward = -9.0\n",
      "done   = False\n",
      "------------------------------------------------------------------------------------------------------------------------\n",
      "step   = 3\n",
      "action = \n",
      "{}\n",
      "state  = \n",
      "         num-person-waiting___f0 = 0          num-person-waiting___f1 = 1          num-person-waiting___f2 = 1     \n",
      "         num-person-waiting___f3 = 2          num-person-waiting___f4 = 2      num-person-in-elevator___e0 = 0     \n",
      "     num-person-in-elevator___e1 = 0             elevator-dir-up___e0 = True          elevator-dir-up___e1 = True  \n",
      "            elevator-closed___e0 = True          elevator-closed___e1 = True    elevator-at-floor___e0__f0 = True  \n",
      "      elevator-at-floor___e0__f1 = False   elevator-at-floor___e0__f2 = False   elevator-at-floor___e0__f3 = False \n",
      "      elevator-at-floor___e0__f4 = False   elevator-at-floor___e1__f0 = True    elevator-at-floor___e1__f1 = False \n",
      "      elevator-at-floor___e1__f2 = False   elevator-at-floor___e1__f3 = False   elevator-at-floor___e1__f4 = False \n",
      "    \n",
      "reward = -9.0\n",
      "done   = False\n",
      "------------------------------------------------------------------------------------------------------------------------\n",
      "step   = 4\n",
      "action = \n",
      "     close-door___e0 = True  close-door___e1 = True \n",
      "state  = \n",
      "         num-person-waiting___f0 = 0          num-person-waiting___f1 = 1          num-person-waiting___f2 = 2     \n",
      "         num-person-waiting___f3 = 2          num-person-waiting___f4 = 4      num-person-in-elevator___e0 = 0     \n",
      "     num-person-in-elevator___e1 = 0             elevator-dir-up___e0 = True          elevator-dir-up___e1 = True  \n",
      "            elevator-closed___e0 = True          elevator-closed___e1 = True    elevator-at-floor___e0__f0 = True  \n",
      "      elevator-at-floor___e0__f1 = False   elevator-at-floor___e0__f2 = False   elevator-at-floor___e0__f3 = False \n",
      "      elevator-at-floor___e0__f4 = False   elevator-at-floor___e1__f0 = True    elevator-at-floor___e1__f1 = False \n",
      "      elevator-at-floor___e1__f2 = False   elevator-at-floor___e1__f3 = False   elevator-at-floor___e1__f4 = False \n",
      "    \n",
      "reward = -18.0\n",
      "done   = False\n",
      "------------------------------------------------------------------------------------------------------------------------\n",
      "step   = 5\n",
      "action = \n",
      "     close-door___e0 = True   open-door___e1 = True \n",
      "state  = \n",
      "         num-person-waiting___f0 = 0          num-person-waiting___f1 = 1          num-person-waiting___f2 = 2     \n",
      "         num-person-waiting___f3 = 2          num-person-waiting___f4 = 5      num-person-in-elevator___e0 = 0     \n",
      "     num-person-in-elevator___e1 = 0             elevator-dir-up___e0 = True          elevator-dir-up___e1 = True  \n",
      "            elevator-closed___e0 = True          elevator-closed___e1 = True    elevator-at-floor___e0__f0 = True  \n",
      "      elevator-at-floor___e0__f1 = False   elevator-at-floor___e0__f2 = False   elevator-at-floor___e0__f3 = False \n",
      "      elevator-at-floor___e0__f4 = False   elevator-at-floor___e1__f0 = True    elevator-at-floor___e1__f1 = False \n",
      "      elevator-at-floor___e1__f2 = False   elevator-at-floor___e1__f3 = False   elevator-at-floor___e1__f4 = False \n",
      "    \n",
      "reward = -27.0\n",
      "done   = False\n",
      "------------------------------------------------------------------------------------------------------------------------\n",
      "step   = 6\n",
      "action = \n",
      "           close-door___e0 = True  move-current-dir___e1 = True \n",
      "state  = \n",
      "         num-person-waiting___f0 = 0          num-person-waiting___f1 = 1          num-person-waiting___f2 = 2     \n",
      "         num-person-waiting___f3 = 2          num-person-waiting___f4 = 5      num-person-in-elevator___e0 = 0     \n",
      "     num-person-in-elevator___e1 = 0             elevator-dir-up___e0 = True          elevator-dir-up___e1 = True  \n",
      "            elevator-closed___e0 = True          elevator-closed___e1 = True    elevator-at-floor___e0__f0 = True  \n",
      "      elevator-at-floor___e0__f1 = False   elevator-at-floor___e0__f2 = False   elevator-at-floor___e0__f3 = False \n",
      "      elevator-at-floor___e0__f4 = False   elevator-at-floor___e1__f0 = False   elevator-at-floor___e1__f1 = True  \n",
      "      elevator-at-floor___e1__f2 = False   elevator-at-floor___e1__f3 = False   elevator-at-floor___e1__f4 = False \n",
      "    \n",
      "reward = -30.0\n",
      "done   = False\n",
      "------------------------------------------------------------------------------------------------------------------------\n",
      "step   = 7\n",
      "action = \n",
      "           close-door___e0 = True  move-current-dir___e1 = True \n",
      "state  = \n",
      "         num-person-waiting___f0 = 0          num-person-waiting___f1 = 2          num-person-waiting___f2 = 2     \n",
      "         num-person-waiting___f3 = 2          num-person-waiting___f4 = 6      num-person-in-elevator___e0 = 0     \n",
      "     num-person-in-elevator___e1 = 0             elevator-dir-up___e0 = True          elevator-dir-up___e1 = True  \n",
      "            elevator-closed___e0 = True          elevator-closed___e1 = True    elevator-at-floor___e0__f0 = True  \n",
      "      elevator-at-floor___e0__f1 = False   elevator-at-floor___e0__f2 = False   elevator-at-floor___e0__f3 = False \n",
      "      elevator-at-floor___e0__f4 = False   elevator-at-floor___e1__f0 = False   elevator-at-floor___e1__f1 = False \n",
      "      elevator-at-floor___e1__f2 = True    elevator-at-floor___e1__f3 = False   elevator-at-floor___e1__f4 = False \n",
      "    \n",
      "reward = -30.0\n",
      "done   = False\n",
      "------------------------------------------------------------------------------------------------------------------------\n",
      "step   = 8\n",
      "action = \n",
      "     open-door___e0 = True \n",
      "state  = \n",
      "         num-person-waiting___f0 = 0          num-person-waiting___f1 = 2          num-person-waiting___f2 = 2     \n",
      "         num-person-waiting___f3 = 2          num-person-waiting___f4 = 6      num-person-in-elevator___e0 = 0     \n",
      "     num-person-in-elevator___e1 = 0             elevator-dir-up___e0 = True          elevator-dir-up___e1 = True  \n",
      "            elevator-closed___e0 = True          elevator-closed___e1 = True    elevator-at-floor___e0__f0 = True  \n",
      "      elevator-at-floor___e0__f1 = False   elevator-at-floor___e0__f2 = False   elevator-at-floor___e0__f3 = False \n",
      "      elevator-at-floor___e0__f4 = False   elevator-at-floor___e1__f0 = False   elevator-at-floor___e1__f1 = False \n",
      "      elevator-at-floor___e1__f2 = True    elevator-at-floor___e1__f3 = False   elevator-at-floor___e1__f4 = False \n",
      "    \n",
      "reward = -36.0\n",
      "done   = False\n",
      "------------------------------------------------------------------------------------------------------------------------\n",
      "step   = 9\n",
      "action = \n",
      "     open-door___e0 = True  open-door___e1 = True \n",
      "state  = \n",
      "         num-person-waiting___f0 = 0          num-person-waiting___f1 = 3          num-person-waiting___f2 = 2     \n",
      "         num-person-waiting___f3 = 2          num-person-waiting___f4 = 6      num-person-in-elevator___e0 = 0     \n",
      "     num-person-in-elevator___e1 = 0             elevator-dir-up___e0 = True          elevator-dir-up___e1 = False \n",
      "            elevator-closed___e0 = True          elevator-closed___e1 = False   elevator-at-floor___e0__f0 = True  \n",
      "      elevator-at-floor___e0__f1 = False   elevator-at-floor___e0__f2 = False   elevator-at-floor___e0__f3 = False \n",
      "      elevator-at-floor___e0__f4 = False   elevator-at-floor___e1__f0 = False   elevator-at-floor___e1__f1 = False \n",
      "      elevator-at-floor___e1__f2 = True    elevator-at-floor___e1__f3 = False   elevator-at-floor___e1__f4 = False \n",
      "    \n",
      "reward = -36.0\n",
      "done   = True\n",
      "\n",
      "episode 1 ended with return -201.0\n",
      "========================================================================================================================\n"
     ]
    },
    {
     "data": {
      "text/plain": [
       "{'mean': np.float64(-201.0),\n",
       " 'median': np.float64(-201.0),\n",
       " 'min': np.float64(-201.0),\n",
       " 'max': np.float64(-201.0),\n",
       " 'std': np.float64(0.0)}"
      ]
     },
     "execution_count": 6,
     "metadata": {},
     "output_type": "execute_result"
    }
   ],
   "source": [
    "env.horizon = 10   # let's just see the first 10 steps\n",
    "agent.evaluate(env, episodes=1, verbose=True)"
   ]
  }
 ],
 "metadata": {
  "kernelspec": {
   "display_name": "Python 3 (ipykernel)",
   "language": "python",
   "name": "python3"
  },
  "language_info": {
   "codemirror_mode": {
    "name": "ipython",
    "version": 3
   },
   "file_extension": ".py",
   "mimetype": "text/x-python",
   "name": "python",
   "nbconvert_exporter": "python",
   "pygments_lexer": "ipython3",
   "version": "3.12.7"
  },
  "widgets": {
   "application/vnd.jupyter.widget-state+json": {
    "state": {},
    "version_major": 2,
    "version_minor": 0
   }
  }
 },
 "nbformat": 4,
 "nbformat_minor": 5
}
