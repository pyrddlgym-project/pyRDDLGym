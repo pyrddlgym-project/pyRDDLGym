{
 "cells": [
  {
   "cell_type": "markdown",
   "id": "c3cbf9f1",
   "metadata": {},
   "source": [
    "# Calling External Python Functions in pyRDDLGym."
   ]
  },
  {
   "cell_type": "markdown",
   "id": "ab93713a",
   "metadata": {},
   "source": [
    "This preliminary notebook discusses how to write and execute external Python function calls from within RDDL domain description files."
   ]
  },
  {
   "cell_type": "code",
   "execution_count": 1,
   "id": "23dcd5e2",
   "metadata": {},
   "outputs": [
    {
     "name": "stdout",
     "output_type": "stream",
     "text": [
      "Note: you may need to restart the kernel to use updated packages.\n",
      "Note: you may need to restart the kernel to use updated packages.\n"
     ]
    }
   ],
   "source": [
    "%pip install --quiet --upgrade pip\n",
    "%pip install --quiet pyRDDLGym rddlrepository"
   ]
  },
  {
   "cell_type": "markdown",
   "id": "97b8975c",
   "metadata": {},
   "source": [
    "Import the required packages:"
   ]
  },
  {
   "cell_type": "code",
   "execution_count": 2,
   "id": "e72c2081",
   "metadata": {},
   "outputs": [],
   "source": [
    "import warnings\n",
    "warnings.filterwarnings(\"ignore\", category=UserWarning)\n",
    "import numpy as np\n",
    "import pyRDDLGym\n",
    "from pyRDDLGym.core.policy import RandomAgent\n",
    "from rddlrepository.core.manager import RDDLRepoManager"
   ]
  },
  {
   "cell_type": "markdown",
   "id": "ae97bd20",
   "metadata": {},
   "source": [
    "Let us now define the RDDL domain and instance description files containing the code with a function call:"
   ]
  },
  {
   "cell_type": "code",
   "execution_count": 3,
   "id": "4d7c53c2",
   "metadata": {},
   "outputs": [
    {
     "name": "stdout",
     "output_type": "stream",
     "text": [
      "Domain <ExternalFuncDomain> was successfully registered in rddlrepository with context <standalone>.\n",
      "Instance <1> was successfully registered in rddlrepository for domain <ExternalFuncDomain_standalone>.\n"
     ]
    },
    {
     "data": {
      "text/plain": [
       "<rddlrepository.core.manager.RDDLRepoManager at 0x1922af6d5e0>"
      ]
     },
     "execution_count": 3,
     "metadata": {},
     "output_type": "execute_result"
    }
   ],
   "source": [
    "domain_text = \"\"\"\n",
    "domain my_domain {\n",
    "\n",
    "    types {\n",
    "        obj : object;\n",
    "    };\n",
    "\n",
    "    pvariables {\n",
    "        state(obj) : { state-fluent, real, default = 0.0 };\n",
    "        action(obj) : { action-fluent, real, default = 0.0 };\n",
    "    };\n",
    "    \n",
    "    cpfs {\n",
    "        state'(?o) = $MyFunctionCall[?o](state(_), action(_));\n",
    "    };\n",
    "    \n",
    "    reward = sum_{?o : obj} pow[state'(?o) - 4, 2];\n",
    "    \n",
    "    action-preconditions {\n",
    "        forall_{?o : obj} [action(?o) >= -10 ^ action(?o) <= 10];\n",
    "    };\n",
    "}\n",
    "\"\"\"\n",
    "\n",
    "instance_text = \"\"\"\n",
    "non-fluents nf_simple {\n",
    "    domain = my_domain;\n",
    "    objects {\n",
    "        obj : { o1, o2 };\n",
    "    };\n",
    "}\n",
    "\n",
    "instance simple_inst {\n",
    "    domain = my_domain;\n",
    "    non-fluents = nf_simple;\n",
    "    max-nondef-actions = pos-inf;\n",
    "    horizon = 5;\n",
    "    discount = 1.0;\n",
    "}\n",
    "\"\"\"\n",
    "\n",
    "# register the domain and instance with rddlrepository\n",
    "manager = RDDLRepoManager(rebuild=True)\n",
    "manager.register_domain(\"ExternalFuncDomain\", \"standalone\", domain_text, desc=\"domain with external function call\", viz=None)\n",
    "problem_info = manager.get_problem(\"ExternalFuncDomain_standalone\")\n",
    "problem_info.register_instance(\"1\", instance_text)\n",
    "RDDLRepoManager(rebuild=True)"
   ]
  },
  {
   "cell_type": "markdown",
   "id": "ce7259f9",
   "metadata": {},
   "source": [
    "The line of the code `state'(?o) = $MyFunctionCall[?o](state(_), action(_));` calls an external Python function that takes the state and action and returns the next state vectors."
   ]
  },
  {
   "cell_type": "markdown",
   "id": "79dcc25e",
   "metadata": {},
   "source": [
    "Next, we must define the external Python function within the Python code, whose signature must match its definition in RDDL. Note that the function can be any computation that can be executed in Python, which allows Python control flow such as loops or recursion, external packages, ML frameworks, etc., to be used to extend the functionality of RDDL:"
   ]
  },
  {
   "cell_type": "code",
   "execution_count": 4,
   "id": "1a4757fe",
   "metadata": {},
   "outputs": [],
   "source": [
    "def my_function(state_vec, action_vec):\n",
    "    vec = state_vec + action_vec\n",
    "    while np.max(np.abs(vec)) > 1.0:\n",
    "        vec = vec / 2.0\n",
    "    return vec"
   ]
  },
  {
   "cell_type": "markdown",
   "id": "16d5996c",
   "metadata": {},
   "source": [
    "Finally, we need to instruct the Python compiler to use the above function when compiling and executing the domain and instance:"
   ]
  },
  {
   "cell_type": "code",
   "execution_count": 5,
   "id": "1dfc5a1f",
   "metadata": {},
   "outputs": [],
   "source": [
    "env = pyRDDLGym.make(\"ExternalFuncDomain_standalone\", \"1\", \n",
    "                     backend_kwargs={'python_functions': {'MyFunctionCall': my_function}})"
   ]
  },
  {
   "cell_type": "markdown",
   "id": "41f2a84b",
   "metadata": {},
   "source": [
    "Let's execute the environment with a random policy:"
   ]
  },
  {
   "cell_type": "code",
   "execution_count": 6,
   "id": "57267d29",
   "metadata": {},
   "outputs": [
    {
     "name": "stdout",
     "output_type": "stream",
     "text": [
      "initial state = \n",
      "     state___o1 = 0.0  state___o2 = 0.0 \n",
      "-----------------------------------------------------------------------------------------------------------------------------------------------\n",
      "step   = 0\n",
      "action = \n",
      "     action___o2 = -0.6362280249595642  action___o1 = -6.7809906005859375 \n",
      "state  = \n",
      "     state___o1 = -0.8476238250732422   state___o2 = -0.07952850311994553 \n",
      "reward = 40.142009557185794\n",
      "done   = False\n",
      "-----------------------------------------------------------------------------------------------------------------------------------------------\n",
      "step   = 1\n",
      "action = \n",
      "     action___o2 = -3.7849085330963135  action___o1 = 9.153914451599121   \n",
      "state  = \n",
      "     state___o1 = 0.5191431641578674   state___o2 = -0.2415273147635162 \n",
      "reward = 30.10691827351391\n",
      "done   = False\n",
      "-----------------------------------------------------------------------------------------------------------------------------------------------\n",
      "step   = 2\n",
      "action = \n",
      "     action___o2 = -5.282477855682373  action___o1 = -4.086496829986572 \n",
      "state  = \n",
      "     state___o1 = -0.4459192082285881  state___o2 = -0.6905006463057362 \n",
      "reward = 41.76699391909044\n",
      "done   = False\n",
      "-----------------------------------------------------------------------------------------------------------------------------------------------\n",
      "step   = 3\n",
      "action = \n",
      "     action___o1 = 0.7126488089561462  action___o2 = -9.059531211853027 \n",
      "state  = \n",
      "     state___o1 = 0.016670600045472383  state___o2 = -0.6093769911349227  \n",
      "reward = 37.11326935494613\n",
      "done   = False\n",
      "-----------------------------------------------------------------------------------------------------------------------------------------------\n",
      "step   = 4\n",
      "action = \n",
      "     action___o1 = 5.525976181030273  action___o2 = 7.842332363128662 \n",
      "state  = \n",
      "     state___o1 = 0.6928308476344682  state___o2 = 0.9041194214992174 \n",
      "reward = 20.52184435869649\n",
      "done   = True\n",
      "\n",
      "episode 1 ended with return 169.65103546343275\n",
      "===============================================================================================================================================\n"
     ]
    },
    {
     "data": {
      "text/plain": [
       "{'mean': np.float64(169.65103546343275),\n",
       " 'median': np.float64(169.65103546343275),\n",
       " 'min': np.float64(169.65103546343275),\n",
       " 'max': np.float64(169.65103546343275),\n",
       " 'std': np.float64(0.0)}"
      ]
     },
     "execution_count": 6,
     "metadata": {},
     "output_type": "execute_result"
    }
   ],
   "source": [
    "agent = RandomAgent(action_space=env.action_space, num_actions=env.max_allowed_actions)\n",
    "agent.evaluate(env, episodes=1, verbose=True)"
   ]
  }
 ],
 "metadata": {
  "kernelspec": {
   "display_name": "Python 3 (ipykernel)",
   "language": "python",
   "name": "python3"
  },
  "language_info": {
   "codemirror_mode": {
    "name": "ipython",
    "version": 3
   },
   "file_extension": ".py",
   "mimetype": "text/x-python",
   "name": "python",
   "nbconvert_exporter": "python",
   "pygments_lexer": "ipython3",
   "version": "3.12.7"
  }
 },
 "nbformat": 4,
 "nbformat_minor": 5
}
